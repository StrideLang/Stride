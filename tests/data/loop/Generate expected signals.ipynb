{
 "cells": [
  {
   "cell_type": "code",
   "execution_count": 1,
   "metadata": {},
   "outputs": [
    {
     "name": "stdout",
     "output_type": "stream",
     "text": [
      "Populating the interactive namespace from numpy and matplotlib\n"
     ]
    }
   ],
   "source": [
    "%pylab inline"
   ]
  },
  {
   "cell_type": "code",
   "execution_count": 2,
   "metadata": {},
   "outputs": [],
   "source": [
    "num_samples = 44100"
   ]
  },
  {
   "cell_type": "code",
   "execution_count": 3,
   "metadata": {},
   "outputs": [],
   "source": [
    "input1 = linspace(-1, 1, num_samples)\n",
    "input2 = linspace(1, -1, num_samples)"
   ]
  },
  {
   "cell_type": "code",
   "execution_count": 4,
   "metadata": {},
   "outputs": [
    {
     "name": "stdout",
     "output_type": "stream",
     "text": [
      "use DesktopAudio version 1.0\r\n",
      "\r\n",
      "signal Accum {}\r\n",
      "\r\n",
      "loop Loop {\r\n",
      "\tports: [\r\n",
      "\t\tmainInputPort InputPort {\r\n",
      "\t\t\tblock: Input\r\n",
      "\t\t}\r\n",
      "\t\tmainOutputPort OutputPort {\r\n",
      "\t\t\tblock: Output\r\n",
      "\t\t}\r\n",
      "\t]\r\n",
      "\tblocks: [\r\n",
      "\t\tsignal Input[InputPort.size] {}\r\n",
      "\t\tsignal Output {default: 0}\r\n",
      "\t\tsignal Index { default: 1 reset: Reset }\r\n",
      "\t\tswitch Done {}\r\n",
      "\t\ttrigger Reset {}\r\n",
      "\t]\r\n",
      "\tonExecution: Reset\r\n",
      "\tterminateWhen: Done\r\n",
      "\tstreams: [\r\n",
      "\t\tInput [ Index ] + Output >> Output ;\r\n",
      "\t\tIndex + 1 >> Index ;\r\n",
      "\t\t[ Index , InputPort.size ] >> Greater () >> Done ;\r\n",
      "\t\t\r\n",
      "\t]\r\n",
      "}\r\n",
      "\r\n",
      "signal List[20] { default: 1 }\r\n",
      "\r\n",
      "List >> Loop() >> AudioOut[1];\r\n"
     ]
    }
   ],
   "source": [
    "!cat 01_simple.stride"
   ]
  },
  {
   "cell_type": "code",
   "execution_count": 5,
   "metadata": {},
   "outputs": [],
   "source": [
    "out_text = ''\n",
    "\n",
    "accum = 0\n",
    "\n",
    "for val1, val2 in zip(input1, input2):\n",
    "    for i in range(10):\n",
    "        accum += 2\n",
    "    out_text += str(accum) + \"\\n0.0\\n\"\n",
    "\n",
    "out_file = open(\"01_simple.expected\", \"w\")\n",
    "out_file.write(out_text[:-1])\n",
    "pass"
   ]
  },
  {
   "cell_type": "code",
   "execution_count": 8,
   "metadata": {},
   "outputs": [
    {
     "name": "stdout",
     "output_type": "stream",
     "text": [
      "use DesktopAudio version 1.0\r\n",
      "\r\n",
      "loop Accumulate {\r\n",
      "\tports: [\t\r\n",
      "\t\tmainInputPort InputPort { block: Input }\r\n",
      "\t\tmainOutputPort OutputPort { block: Output }\r\n",
      "\t]\r\n",
      "\tblocks: [\r\n",
      "\t\tsignal Input[InputPort.size] {}\r\n",
      "\t\tsignal Output {default: 0 reset: Reset }\r\n",
      "\t\tsignal Index { default: 1 reset: Reset }\r\n",
      "\t\tswitch Done {}\r\n",
      "\t\ttrigger Reset {}\r\n",
      "\t]\r\n",
      "\tstreams: [\r\n",
      "\t\tOutput + Input[Index] >> Output;\r\n",
      "\t\tIndex + 1 >> Index ;\r\n",
      "\t\t[ Index , InputPort.size ] >> Greater () >> Done ;\r\n",
      "\t]\r\n",
      "\tonExecution: Reset\r\n",
      "\tterminateWhen: Done\r\n",
      "}\r\n",
      "\r\n",
      "\r\n",
      "[AudioIn[1], AudioIn[2], 7] >> Accumulate() >> AudioOut[1];\r\n",
      "\r\n"
     ]
    }
   ],
   "source": [
    "!cat 02_list_input.stride"
   ]
  },
  {
   "cell_type": "code",
   "execution_count": 9,
   "metadata": {},
   "outputs": [],
   "source": [
    "out_text = ''\n",
    "\n",
    "accum = 0\n",
    "\n",
    "for val1, val2 in zip(input1, input2):\n",
    "    \n",
    "    out_text += str(val1 + val2 + 7) + \"\\n0.0\\n\"\n",
    "\n",
    "out_file = open(\"02_list_input.expected\", \"w\")\n",
    "out_file.write(out_text[:-1])\n",
    "pass"
   ]
  },
  {
   "cell_type": "code",
   "execution_count": 10,
   "metadata": {},
   "outputs": [
    {
     "name": "stdout",
     "output_type": "stream",
     "text": [
      "use DesktopAudio version 1.0\r\n",
      "\r\n",
      "signal Accum {}\r\n",
      "switch ResetOuter { }\r\n",
      "signal OuterCounter { reset: ResetOuter}\r\n",
      "\r\n",
      "module Sum {\r\n",
      "\tports: [\r\n",
      "\t\tmainInputPort InputPort { block: Input }\r\n",
      "\t\tmainOutputPort OutputPort { block: Output }\r\n",
      "\t]\r\n",
      "\tblocks:  [\r\n",
      "\t\tsignal Input[InputPort.size] { domain: Output.domain }\r\n",
      "\t\tloop Accumulate {\r\n",
      "\t\t\tports: [\t\r\n",
      "\t\t\t\tmainInputPort InputPort { block: Input }\r\n",
      "\t\t\t\tmainOutputPort OutputPort { block: Output }\r\n",
      "\t\t\t]\r\n",
      "\t\t\tblocks: [\r\n",
      "\t\t\t\tsignal Input[InputPort.size] {}\r\n",
      "\t\t\t\tsignal Output {default: 0 reset: Reset }\r\n",
      "\t\t\t\tsignal Index { default: 1 reset: Reset }\r\n",
      "\t\t\t\tswitch Done {}\r\n",
      "\t\t\t\ttrigger Reset {}\r\n",
      "\t\t\t]\r\n",
      "\t\t\tstreams: [\r\n",
      "\t\t\t\tOutput + Input[Index] >> Output;\r\n",
      "\t\t\t\tIndex + 1 >> Index ;\r\n",
      "\t\t\t\t[ Index , InputPort.size ] >> Greater () >> Done ;\r\n",
      "\t\t\t]\r\n",
      "\t\t\tonExecution: Reset\r\n",
      "\t\t\tterminateWhen: Done\r\n",
      "\t\t}\r\n",
      "\t]\r\n",
      "\tstreams: [\r\n",
      "\t\tInput >> Accumulate() >> Output;\r\n",
      "\t]\r\n",
      "}\r\n",
      "\r\n",
      "[AudioIn[1], AudioIn[2], 7] >> Sum() >> AudioOut[1];\r\n",
      "\r\n"
     ]
    }
   ],
   "source": [
    "!cat 03_list_input_in_module.stride"
   ]
  },
  {
   "cell_type": "code",
   "execution_count": 11,
   "metadata": {},
   "outputs": [],
   "source": [
    "out_text = ''\n",
    "\n",
    "accum = 0\n",
    "\n",
    "for val1, val2 in zip(input1, input2):\n",
    "    \n",
    "    out_text += str(val1 + val2 + 7) + \"\\n0.0\\n\"\n",
    "\n",
    "out_file = open(\"03_list_input_in_module.expected\", \"w\")\n",
    "out_file.write(out_text[:-1])\n",
    "pass"
   ]
  },
  {
   "cell_type": "code",
   "execution_count": 12,
   "metadata": {},
   "outputs": [
    {
     "name": "stdout",
     "output_type": "stream",
     "text": [
      "use DesktopAudio version 1.0\r\n",
      "\r\n",
      "module LoopModule {\r\n",
      "\tports: [\r\n",
      "\t\tmainOutputPort OutputPort { block: Output }\r\n",
      "\t]\r\n",
      "\tblocks:  [\r\n",
      "\t\tsignal List[20] { default: 1 }\r\n",
      "\r\n",
      "\t\tloop Loop {\r\n",
      "\t\t\tports: [\r\n",
      "\t\t\t\tmainInputPort InputPort {\r\n",
      "\t\t\t\t\tblock: Input\r\n",
      "\t\t\t\t}\r\n",
      "\t\t\t\tmainOutputPort OutputPort {\r\n",
      "\t\t\t\t\tblock: Output\r\n",
      "\t\t\t\t}\r\n",
      "\t\t\t]\r\n",
      "\t\t\tblocks: [\r\n",
      "\t\t\t\tsignal Input[InputPort.size] {}\r\n",
      "\t\t\t\tsignal Output { default: 0 reset: Reset }\r\n",
      "\t\t\t\tsignal Index { default: 1 reset: Reset }\r\n",
      "\t\t\t\tswitch Done {}\r\n",
      "\t\t\t\ttrigger Reset {}\r\n",
      "\t\t\t]\r\n",
      "\t\t\tonExecution: Reset\r\n",
      "\t\t\tterminateWhen: Done\r\n",
      "\t\t\tstreams: [\r\n",
      "\t\t\t\tInput [ Index ] + Output >> Output ;\r\n",
      "\t\t\t\tIndex + 1 >> Index ;\r\n",
      "\t\t\t\t[ Index , InputPort.size ] >> Greater () >> Done ;\r\n",
      "\t\t\t\t\r\n",
      "\t\t\t]\r\n",
      "\t\t}\r\n",
      "\t]\r\n",
      "\tstreams: [\r\n",
      "\t\tList >> Loop() >> Output;\r\n",
      "\t]\r\n",
      "}\r\n",
      "\r\n",
      "LoopModule() >> AudioOut[1];\r\n",
      "\r\n"
     ]
    }
   ],
   "source": [
    "!cat 04_loop_in_module.stride"
   ]
  },
  {
   "cell_type": "code",
   "execution_count": 13,
   "metadata": {},
   "outputs": [],
   "source": [
    "out_text = ''\n",
    "\n",
    "counter = 0\n",
    "accum = 0\n",
    "\n",
    "for val1, val2 in zip(input1, input2):\n",
    "    out_text += str(20.0) + \"\\n0.0\\n\"\n",
    "\n",
    "out_file = open(\"04_loop_in_module.expected\", \"w\")\n",
    "out_file.write(out_text[:-1])\n",
    "pass"
   ]
  },
  {
   "cell_type": "code",
   "execution_count": null,
   "metadata": {},
   "outputs": [],
   "source": []
  }
 ],
 "metadata": {
  "kernelspec": {
   "display_name": "Python 3",
   "language": "python",
   "name": "python3"
  },
  "language_info": {
   "codemirror_mode": {
    "name": "ipython",
    "version": 3
   },
   "file_extension": ".py",
   "mimetype": "text/x-python",
   "name": "python",
   "nbconvert_exporter": "python",
   "pygments_lexer": "ipython3",
   "version": "3.6.7"
  }
 },
 "nbformat": 4,
 "nbformat_minor": 2
}
