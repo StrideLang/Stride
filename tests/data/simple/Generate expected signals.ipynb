{
 "cells": [
  {
   "cell_type": "code",
   "execution_count": 3,
   "metadata": {},
   "outputs": [
    {
     "name": "stdout",
     "output_type": "stream",
     "text": [
      "Populating the interactive namespace from numpy and matplotlib\n"
     ]
    }
   ],
   "source": [
    "%pylab inline\n",
    "num_samples = 44100\n",
    "input1 = linspace(-1, 1, num_samples)\n",
    "input2 = linspace(1, -1, num_samples)"
   ]
  },
  {
   "cell_type": "code",
   "execution_count": 4,
   "metadata": {},
   "outputs": [
    {
     "data": {
      "text/plain": [
       "(-1.0, 1.0)"
      ]
     },
     "execution_count": 4,
     "metadata": {},
     "output_type": "execute_result"
    }
   ],
   "source": [
    "input1[0], input1[-1]"
   ]
  },
  {
   "cell_type": "code",
   "execution_count": 6,
   "metadata": {},
   "outputs": [
    {
     "name": "stdout",
     "output_type": "stream",
     "text": [
      "use DesktopAudio version 1.0\r\n",
      "\r\n",
      "AudioIn[1] >> AudioOut[1];\r\n",
      "AudioIn[2] >> AudioOut[2];\r\n"
     ]
    }
   ],
   "source": [
    "!cat 01_Passthru.stride"
   ]
  },
  {
   "cell_type": "code",
   "execution_count": 7,
   "metadata": {},
   "outputs": [],
   "source": [
    "out_text = ''\n",
    "for val1, val2 in zip(input1, input2):\n",
    "    out_text += str(val1) + \"\\n\" + str(val2) + \"\\n\"\n",
    "\n",
    "out_file = open(\"01_Passthru.expected\", \"w\")\n",
    "out_file.write(out_text[:-1])\n",
    "pass"
   ]
  },
  {
   "cell_type": "code",
   "execution_count": 8,
   "metadata": {},
   "outputs": [
    {
     "name": "stdout",
     "output_type": "stream",
     "text": [
      "use DesktopAudio version 1.0\r\n",
      "\r\n",
      "AudioIn[1] >> AudioOut[1];\r\n",
      "AudioIn[1] >> AudioOut[2];\r\n"
     ]
    }
   ],
   "source": [
    "!cat 02_Passthru_copy.stride"
   ]
  },
  {
   "cell_type": "code",
   "execution_count": 9,
   "metadata": {},
   "outputs": [],
   "source": [
    "out_text = ''\n",
    "for val1, val2 in zip(input1, input2):\n",
    "    out_text += str(val1) + \"\\n\" + str(val1) + \"\\n\"\n",
    "\n",
    "out_file = open(\"02_Passthru_copy.expected\", \"w\")\n",
    "out_file.write(out_text[:-1])\n",
    "pass"
   ]
  },
  {
   "cell_type": "code",
   "execution_count": 10,
   "metadata": {},
   "outputs": [
    {
     "name": "stdout",
     "output_type": "stream",
     "text": [
      "use DesktopAudio version 1.0\r\n",
      "\r\n",
      "AudioIn[1] >> AudioOut[2];\r\n",
      "AudioIn[2] >> AudioOut[1];\r\n"
     ]
    }
   ],
   "source": [
    "!cat 03_Passthru_swap.stride"
   ]
  },
  {
   "cell_type": "code",
   "execution_count": 11,
   "metadata": {},
   "outputs": [],
   "source": [
    "out_text = ''\n",
    "for val1, val2 in zip(input1, input2):\n",
    "    out_text += str(val2) + \"\\n\" + str(val1) + \"\\n\"\n",
    "\n",
    "out_file = open(\"03_Passthru_swap.expected\", \"w\")\n",
    "out_file.write(out_text[:-1])\n",
    "pass"
   ]
  },
  {
   "cell_type": "code",
   "execution_count": 12,
   "metadata": {},
   "outputs": [
    {
     "name": "stdout",
     "output_type": "stream",
     "text": [
      "use DesktopAudio version 1.0\r\n",
      "\r\n",
      "(AudioIn[1] * 0.5) + 1.0 >> AudioOut[1];\r\n",
      "(AudioIn[2]/2) - 1.0 >> AudioOut[2];\r\n"
     ]
    }
   ],
   "source": [
    "!cat 04_Expressions_in_stream.stride"
   ]
  },
  {
   "cell_type": "code",
   "execution_count": 13,
   "metadata": {},
   "outputs": [],
   "source": [
    "out_text = ''\n",
    "for val1, val2 in zip(input1, input2):\n",
    "    out_text += str((val1* 0.5) + 1 ) + \"\\n\" + str((val2/2) -1) + \"\\n\"\n",
    "\n",
    "out_file = open(\"04_Expressions_in_stream.expected\", \"w\")\n",
    "out_file.write(out_text[:-1])\n",
    "pass"
   ]
  },
  {
   "cell_type": "markdown",
   "metadata": {
    "collapsed": true
   },
   "source": [
    "05 and 06 are copies of 01\n",
    "~~~\n",
    "cp 01_Passthru.expected 05_Passthru_bundle.expected\n",
    "cp 01_Passthru.expected 06_Passthru_bundle_list.expected\n",
    "~~~\n"
   ]
  },
  {
   "cell_type": "code",
   "execution_count": 14,
   "metadata": {},
   "outputs": [
    {
     "name": "stdout",
     "output_type": "stream",
     "text": [
      "use DesktopAudio version 1.0\r\n",
      "\r\n",
      "signal DownSampled {\r\n",
      "\trate: AudioRate/2\r\n",
      "\tdefault: 0.0\r\n",
      "}\r\n",
      "\r\n",
      "DownSampled + 1 >> DownSampled;\r\n",
      "\r\n",
      "DownSampled >> AudioOut[1];\r\n"
     ]
    }
   ],
   "source": [
    "cat 07_downsample.stride"
   ]
  },
  {
   "cell_type": "code",
   "execution_count": 15,
   "metadata": {},
   "outputs": [],
   "source": [
    "out_text = ''\n",
    "counter = 0.5\n",
    "for val1, val2 in zip(input1, input2):\n",
    "    counter += 0.5\n",
    "    out_text += str(int(counter)) + \"\\n0.0\\n\"\n",
    "\n",
    "out_file = open(\"07_downsample.expected\", \"w\")\n",
    "out_file.write(out_text[:-1])\n",
    "pass"
   ]
  },
  {
   "cell_type": "code",
   "execution_count": 16,
   "metadata": {},
   "outputs": [
    {
     "name": "stdout",
     "output_type": "stream",
     "text": [
      "use DesktopAudio version 1.0\r\n",
      "\r\n",
      "signal Upsampled {\r\n",
      "\trate: AudioRate*3\r\n",
      "\tdefault: 0.0\r\n",
      "}\r\n",
      "\r\n",
      "Upsampled + 1 >> Upsampled;\r\n",
      "\r\n",
      "Upsampled >> AudioOut[1];\r\n"
     ]
    }
   ],
   "source": [
    "cat 08_upsample.stride"
   ]
  },
  {
   "cell_type": "code",
   "execution_count": 17,
   "metadata": {},
   "outputs": [],
   "source": [
    "out_text = ''\n",
    "counter = 0\n",
    "for val1, val2 in zip(input1, input2):\n",
    "    counter += 3\n",
    "    out_text += str(int(counter)) + \"\\n0.0\\n\"\n",
    "\n",
    "out_file = open(\"08_upsample.expected\", \"w\")\n",
    "out_file.write(out_text[:-1])\n",
    "pass"
   ]
  },
  {
   "cell_type": "code",
   "execution_count": 18,
   "metadata": {},
   "outputs": [
    {
     "name": "stdout",
     "output_type": "stream",
     "text": [
      "cat: 09_reset.stride: No such file or directory\r\n"
     ]
    }
   ],
   "source": [
    "cat 09_reset.stride"
   ]
  },
  {
   "cell_type": "code",
   "execution_count": 19,
   "metadata": {},
   "outputs": [],
   "source": [
    "out_text = ''\n",
    "value = 1.0\n",
    "for val1, val2 in zip(input1, input2):\n",
    "    out_text += str(value) + \"\\n0.0\\n\"\n",
    "    value += 1\n",
    "    if value == 10:\n",
    "        value = 1\n",
    "\n",
    "out_file = open(\"09_reset.expected\", \"w\")\n",
    "out_file.write(out_text[:-1])\n",
    "pass"
   ]
  },
  {
   "cell_type": "code",
   "execution_count": 20,
   "metadata": {},
   "outputs": [
    {
     "name": "stdout",
     "output_type": "stream",
     "text": [
      "use DesktopAudio version 1.0\r\n",
      "\r\n",
      "signal Bundle[2] { default: [0.5, -0.5] }\r\n",
      "\r\n",
      "AudioIn[1] * Bundle[1] >> AudioOut[1];\r\n",
      "AudioIn[2] * Bundle[2] >> AudioOut[2];"
     ]
    }
   ],
   "source": [
    "cat 10_bundle_defaults.stride"
   ]
  },
  {
   "cell_type": "code",
   "execution_count": 21,
   "metadata": {},
   "outputs": [],
   "source": [
    "out_text = ''\n",
    "value = 1.0\n",
    "for val1, val2 in zip(input1, input2):\n",
    "    out_text += str(val1 * 0.5) + \"\\n\" + str(val2 * -0.5) + \"\\n\"\n",
    "\n",
    "out_file = open(\"10_bundle_defaults.expected\", \"w\")\n",
    "out_file.write(out_text[:-1])\n",
    "pass"
   ]
  },
  {
   "cell_type": "code",
   "execution_count": 22,
   "metadata": {},
   "outputs": [
    {
     "name": "stdout",
     "output_type": "stream",
     "text": [
      "use DesktopAudio version 1.0\r\n",
      "\r\n",
      "import Generators\r\n",
      "\r\n",
      "constant Val1 {value: 0.1}\r\n",
      "constant Val2 {value: 0.2}\r\n",
      "constant Val3 {value: 0.4}\r\n",
      "\r\n",
      "[Val1, Val2, Val3] >> Bundle;\r\n",
      "\r\n",
      "Bundle[1] >> AudioOut[1];\r\n",
      "Bundle[2] + Bundle[3] >> AudioOut[2];"
     ]
    }
   ],
   "source": [
    "cat 11_list_into_bundle.stride"
   ]
  },
  {
   "cell_type": "code",
   "execution_count": 23,
   "metadata": {},
   "outputs": [],
   "source": [
    "out_text = ''\n",
    "value = 1.0\n",
    "for val1, val2 in zip(input1, input2):\n",
    "    out_text += \"0.1\\n0.6\\n\"\n",
    "\n",
    "out_file = open(\"11_list_into_bundle.expected\", \"w\")\n",
    "out_file.write(out_text[:-1])\n",
    "pass"
   ]
  },
  {
   "cell_type": "code",
   "execution_count": 24,
   "metadata": {},
   "outputs": [
    {
     "name": "stdout",
     "output_type": "stream",
     "text": [
      "use DesktopAudio version 1.0\r\n",
      "\r\n",
      "import Generators\r\n",
      "\r\n",
      "signal Val1 {default: 0.1}\r\n",
      "signal Val2 {default: 0.2}\r\n",
      "signal Val3 {default: 0.4}\r\n",
      "\r\n",
      "[Val1, Val2, Val3] >> Bundle;\r\n",
      "\r\n",
      "Bundle[1] >> AudioOut[1];\r\n",
      "Bundle[2] + Bundle[3] >> AudioOut[2];"
     ]
    }
   ],
   "source": [
    "cat 12_signal_list_into_bundle.stride"
   ]
  },
  {
   "cell_type": "code",
   "execution_count": 26,
   "metadata": {},
   "outputs": [],
   "source": [
    "out_text = ''\n",
    "value = 1.0\n",
    "for val1, val2 in zip(input1, input2):\n",
    "    out_text += \"0.1\\n0.6\\n\"\n",
    "\n",
    "out_file = open(\"12_signal_list_into_bundle.expected\", \"w\")\n",
    "out_file.write(out_text[:-1])\n",
    "pass"
   ]
  },
  {
   "cell_type": "code",
   "execution_count": 27,
   "metadata": {},
   "outputs": [
    {
     "name": "stdout",
     "output_type": "stream",
     "text": [
      "use DesktopAudio version 1.0\r\n",
      "\r\n",
      "import Generators\r\n",
      "\r\n",
      "switch Switch1 {}\r\n",
      "\r\n",
      "AudioIn >> Greater() >> Switch1;\r\n",
      "#Switch1 >> Select() >> AudioOut[1];"
     ]
    }
   ],
   "source": [
    "cat 13_switch.stride"
   ]
  },
  {
   "cell_type": "code",
   "execution_count": 28,
   "metadata": {},
   "outputs": [
    {
     "name": "stdout",
     "output_type": "stream",
     "text": [
      "use DesktopAudio version 1.0\r\n",
      "\r\n",
      "trigger Reset { domain: AudioDomain }\r\n",
      "\t\r\n",
      "signal Value {\r\n",
      "\treset: Reset\r\n",
      "\tdefault: 1\r\n",
      "    domain: AudioDomain\r\n",
      "}\r\n",
      "\r\n",
      "Value >> AudioOut[1];\r\n",
      "Value + 1 >> Value;\r\n",
      "[Value, 10] >> Equal() >> Reset;\r\n"
     ]
    }
   ],
   "source": [
    "cat 14_trigger_reset.stride"
   ]
  },
  {
   "cell_type": "code",
   "execution_count": 29,
   "metadata": {},
   "outputs": [],
   "source": [
    "out_text = ''\n",
    "value = 1.0\n",
    "for val1, val2 in zip(input1, input2):\n",
    "    out_text += str(value) + \"\\n0.0\\n\"\n",
    "    value += 1\n",
    "    if value == 10:\n",
    "        value = 1\n",
    "\n",
    "out_file = open(\"14_trigger_reset.expected\", \"w\")\n",
    "out_file.write(out_text[:-1])\n",
    "pass"
   ]
  },
  {
   "cell_type": "code",
   "execution_count": 1,
   "metadata": {},
   "outputs": [
    {
     "name": "stdout",
     "output_type": "stream",
     "text": [
      "use DesktopAudio version 1.0\r\n",
      "\r\n",
      "switch Reset { domain: AudioDomain }\r\n",
      "\t\r\n",
      "signal Value {\r\n",
      "\treset: Reset\r\n",
      "\tdefault: 1\r\n",
      "    domain: AudioDomain\r\n",
      "}\r\n",
      "\r\n",
      "Value >> AudioOut[1];\r\n",
      "Value + 1 >> Value;\r\n",
      "[Value, 10] >> Equal() >> Reset;\r\n"
     ]
    }
   ],
   "source": [
    "cat 15_switch_reset.stride"
   ]
  },
  {
   "cell_type": "code",
   "execution_count": 4,
   "metadata": {},
   "outputs": [],
   "source": [
    "out_text = ''\n",
    "value = 1.0\n",
    "for val1, val2 in zip(input1, input2):\n",
    "    out_text += str(value) + \"\\n0.0\\n\"\n",
    "    value += 1\n",
    "    if value == 10:\n",
    "        value = 1\n",
    "\n",
    "out_file = open(\"15_switch_reset.expected\", \"w\")\n",
    "out_file.write(out_text[:-1])\n",
    "pass"
   ]
  },
  {
   "cell_type": "code",
   "execution_count": null,
   "metadata": {},
   "outputs": [],
   "source": []
  }
 ],
 "metadata": {
  "kernelspec": {
   "display_name": "Python 3",
   "language": "python",
   "name": "python3"
  },
  "language_info": {
   "codemirror_mode": {
    "name": "ipython",
    "version": 2
   },
   "file_extension": ".py",
   "mimetype": "text/x-python",
   "name": "python",
   "nbconvert_exporter": "python",
   "pygments_lexer": "ipython2",
   "version": "2.7.15rc1"
  }
 },
 "nbformat": 4,
 "nbformat_minor": 2
}
