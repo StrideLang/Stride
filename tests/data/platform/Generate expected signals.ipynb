{
 "cells": [
  {
   "cell_type": "code",
   "execution_count": 12,
   "metadata": {},
   "outputs": [
    {
     "name": "stdout",
     "output_type": "stream",
     "text": [
      "Populating the interactive namespace from numpy and matplotlib\n"
     ]
    }
   ],
   "source": [
    "%pylab inline\n",
    "num_samples = 44100\n",
    "input1 = linspace(-1, 1, num_samples)\n",
    "input2 = linspace(1, -1, num_samples)"
   ]
  },
  {
   "cell_type": "code",
   "execution_count": 13,
   "metadata": {},
   "outputs": [
    {
     "name": "stdout",
     "output_type": "stream",
     "text": [
      "use DesktopAudio version 1.0\n",
      "\n",
      "AudioIn >> Greater() >> AudioOut[0];\n"
     ]
    }
   ],
   "source": [
    "cat 01_greater.stride"
   ]
  },
  {
   "cell_type": "code",
   "execution_count": 14,
   "metadata": {},
   "outputs": [],
   "source": [
    "out_text = ''\n",
    "\n",
    "\n",
    "for val1, val2 in zip(input1, input2):\n",
    "    if val1 > val2:\n",
    "        output = 1\n",
    "    else:\n",
    "        output = 0\n",
    "    out_text += str(output) + \"\\n\" +\"0.0\\n\"\n",
    "\n",
    "out_file = open(\"01_greater.expected\", \"w\")\n",
    "out_file.write(out_text[:-1])\n",
    "\n",
    "pass"
   ]
  },
  {
   "cell_type": "code",
   "execution_count": 15,
   "metadata": {},
   "outputs": [
    {
     "name": "stdout",
     "output_type": "stream",
     "text": [
      "use DesktopAudio version 1.0\n",
      "\n",
      "import Generators\n",
      "\n",
      "Oscillator() >> AudioOut[0];"
     ]
    }
   ],
   "source": [
    "cat 02_oscillator.stride"
   ]
  },
  {
   "cell_type": "code",
   "execution_count": 16,
   "metadata": {},
   "outputs": [],
   "source": [
    "out_text = ''\n",
    "\n",
    "phase = 0.0\n",
    "inc = 2.0 * np.pi* 440.0/44100.0\n",
    "\n",
    "for val1, val2 in zip(input1, input2):\n",
    "    output = sin(phase)\n",
    "    phase += inc\n",
    "    if phase > (2.0 * np.pi):\n",
    "        phase -= (2.0 * np.pi)\n",
    "    out_text += str(output) + \"\\n\" +\"0.0\\n\"\n",
    "\n",
    "out_file = open(\"02_oscillator.expected\", \"w\")\n",
    "out_file.write(out_text[:-1])\n",
    "\n",
    "pass"
   ]
  },
  {
   "cell_type": "code",
   "execution_count": 17,
   "metadata": {},
   "outputs": [
    {
     "name": "stdout",
     "output_type": "stream",
     "text": [
      "use DesktopAudio version 1.0\n",
      "\n",
      "import Generators\n",
      "\n",
      "Oscillator() >> AudioOut[0];\n",
      "\n",
      "Impulse(frequency: 1) >> AudioOut[1];\n"
     ]
    }
   ],
   "source": [
    "cat 03_oscillator_impulse.stride"
   ]
  },
  {
   "cell_type": "code",
   "execution_count": 18,
   "metadata": {},
   "outputs": [],
   "source": [
    "out_text = ''\n",
    "\n",
    "phase = 0.0\n",
    "inc = 2.0 * np.pi* 440.0/44100.0\n",
    "\n",
    "phase2 = 1.0\n",
    "inc2 = 1.0/44100.0\n",
    "\n",
    "for val1, val2 in zip(input1, input2):\n",
    "    output = sin(phase)\n",
    "    phase += inc\n",
    "    if phase > (2.0 * np.pi):\n",
    "        phase -= (2.0 * np.pi)\n",
    "        \n",
    "    output2 = 0.0\n",
    "    phase2 += inc2\n",
    "    if phase2 >= 1.0:\n",
    "        phase2 -= 1.0\n",
    "        output2 = 1.0\n",
    "    out_text += str(output) + \"\\n\" + str(output2)+ \"\\n\"\n",
    "\n",
    "out_file = open(\"03_oscillator_impulse.expected\", \"w\")\n",
    "out_file.write(out_text[:-1])\n",
    "\n",
    "pass"
   ]
  },
  {
   "cell_type": "code",
   "execution_count": 19,
   "metadata": {},
   "outputs": [
    {
     "data": {
      "text/plain": [
       "2.2675736961451248e-05"
      ]
     },
     "execution_count": 19,
     "metadata": {},
     "output_type": "execute_result"
    }
   ],
   "source": [
    "inc2"
   ]
  },
  {
   "cell_type": "code",
   "execution_count": 20,
   "metadata": {},
   "outputs": [
    {
     "name": "stdout",
     "output_type": "stream",
     "text": [
      "use DesktopAudio version 1.0\n",
      "\n",
      "AudioIn >> Sum() >> AudioOut[0];\n",
      "\n",
      "[1.0, AudioIn[1], 0.5, AudioIn[0]] >> Sum() >> AudioOut[1];\n",
      "\n"
     ]
    }
   ],
   "source": [
    "cat 04_sum.stride"
   ]
  },
  {
   "cell_type": "code",
   "execution_count": 21,
   "metadata": {},
   "outputs": [],
   "source": [
    "out_text = ''\n",
    "\n",
    "phase = 0.0\n",
    "\n",
    "for val1, val2 in zip(input1, input2):\n",
    "    total = 1.0 + val1 + 0.5 + val2\n",
    "    out_text += str(val1 + val2) + \"\\n\" + str(total)+ \"\\n\"\n",
    "\n",
    "out_file = open(\"04_sum.expected\", \"w\")\n",
    "out_file.write(out_text[:-1])\n",
    "\n",
    "pass"
   ]
  },
  {
   "cell_type": "code",
   "execution_count": 22,
   "metadata": {},
   "outputs": [
    {
     "name": "stdout",
     "output_type": "stream",
     "text": [
      "use DesktopAudio version 1.0\n",
      "\n",
      "[AudioIn[0], 0.0] >> Greater() >> Select(whenOn: AudioIn[0] whenOff: AudioIn[1]) >> AudioOut[1];"
     ]
    }
   ],
   "source": [
    "cat 05_Select.stride"
   ]
  },
  {
   "cell_type": "code",
   "execution_count": 26,
   "metadata": {},
   "outputs": [],
   "source": [
    "out_text = ''\n",
    "\n",
    "for val1, val2 in zip(input1, input2):\n",
    "    if val1 > 0:\n",
    "        out_text += \"0.0\\n\" + str(val1) + \"\\n\"\n",
    "    else:\n",
    "        out_text += \"0.0\\n\" + str(val2) + \"\\n\"\n",
    "\n",
    "out_file = open(\"05_Select.expected\", \"w\")\n",
    "out_file.write(out_text[:-1])\n",
    "\n",
    "pass"
   ]
  },
  {
   "cell_type": "code",
   "execution_count": 24,
   "metadata": {},
   "outputs": [
    {
     "name": "stdout",
     "output_type": "stream",
     "text": [
      "use DesktopAudio version 1.0\n",
      "\n",
      "AudioIn[0] >> Clip(maximum: 0.5 minimum: -0.5) >> AudioOut[1];"
     ]
    }
   ],
   "source": [
    "cat 06_Clip.stride"
   ]
  },
  {
   "cell_type": "code",
   "execution_count": 25,
   "metadata": {},
   "outputs": [],
   "source": [
    "out_text = ''\n",
    "\n",
    "phase = 0.0\n",
    "\n",
    "for val1, val2 in zip(input1, input2):\n",
    "    if val1 > 0.5:\n",
    "        out_text += \"0.0\\n0.5\\n\"\n",
    "    elif val1 < -0.5:\n",
    "        out_text += \"0.0\\n-0.5\\n\"\n",
    "    else:\n",
    "        out_text +=  \"0.0\\n\" + str(val1) + \"\\n\"\n",
    "\n",
    "out_file = open(\"06_Clip.expected\", \"w\")\n",
    "out_file.write(out_text[:-1])\n",
    "\n",
    "pass"
   ]
  },
  {
   "cell_type": "code",
   "execution_count": null,
   "metadata": {},
   "outputs": [],
   "source": [
    "cat 07_Serial.stride"
   ]
  },
  {
   "cell_type": "code",
   "execution_count": null,
   "metadata": {},
   "outputs": [],
   "source": [
    "cat 08_Wiring.stride"
   ]
  },
  {
   "cell_type": "code",
   "execution_count": null,
   "metadata": {},
   "outputs": [],
   "source": [
    "cat 09_Wiring_IO.stride"
   ]
  },
  {
   "cell_type": "code",
   "execution_count": null,
   "metadata": {},
   "outputs": [],
   "source": [
    "cat 10_Saturn.stride"
   ]
  },
  {
   "cell_type": "code",
   "execution_count": 3,
   "metadata": {},
   "outputs": [
    {
     "name": "stdout",
     "output_type": "stream",
     "text": [
      "use DesktopAudio version 1.0\r\n",
      "\r\n",
      "import Generators\r\n",
      "\r\n",
      "Impulse(frequency: 1) >> AD(attack: 0.01 decay: 0.7) >> Envelope;\r\n",
      "\r\n",
      "Oscillator(frequency: 880 amplitude: Envelope) >> AudioOut[0];\r\n",
      "\r\n",
      "#Oscillator(frequency: 440) * Envelope >> AudioOut[0];\r\n"
     ]
    }
   ],
   "source": [
    "cat 11_Envelope.stride"
   ]
  },
  {
   "cell_type": "code",
   "execution_count": null,
   "metadata": {},
   "outputs": [],
   "source": [
    "out_text = ''\n",
    "\n",
    "phase = 0.0\n",
    "\n",
    "for val1, val2 in zip(input1, input2):\n",
    "    if val1 > 0.5:\n",
    "        out_text += \"0.0\\n0.5\\n\"\n",
    "    elif val1 < -0.5:\n",
    "        out_text += \"0.0\\n-0.5\\n\"\n",
    "    else:\n",
    "        out_text +=  \"0.0\\n\" + str(val1) + \"\\n\"\n",
    "\n",
    "out_file = open(\"06_Clip.expected\", \"w\")\n",
    "out_file.write(out_text[:-1])\n",
    "\n",
    "pass"
   ]
  },
  {
   "cell_type": "code",
   "execution_count": null,
   "metadata": {},
   "outputs": [],
   "source": []
  },
  {
   "cell_type": "code",
   "execution_count": null,
   "metadata": {},
   "outputs": [],
   "source": [
    "cat 12_Counter.stride"
   ]
  },
  {
   "cell_type": "code",
   "execution_count": null,
   "metadata": {},
   "outputs": [],
   "source": []
  },
  {
   "cell_type": "code",
   "execution_count": null,
   "metadata": {},
   "outputs": [],
   "source": []
  },
  {
   "cell_type": "code",
   "execution_count": 4,
   "metadata": {},
   "outputs": [
    {
     "name": "stdout",
     "output_type": "stream",
     "text": [
      "use DesktopAudio version 1.0\r\n",
      "\r\n",
      "import Notes as N\r\n",
      "import Generators\r\n",
      "\r\n",
      "signal Frequency {\r\n",
      "    domain: AudioDomain\r\n",
      "}\r\n",
      "\r\n",
      "switch SeqTrigger { #FIXME breaks if trigger used instead of switch\r\n",
      "    domain: AudioDomain\r\n",
      "}\r\n",
      "\r\n",
      "constant Values[4] {\r\n",
      "    value: [ N::C4, N::E4, N::G4, N::C5 ]\r\n",
      "}\r\n",
      "\r\n",
      "[Impulse( frequency: 1.0 ), 1.0]\r\n",
      ">> Equal()\r\n",
      ">> SeqTrigger\r\n",
      ">> Sequencer(values: Values)\r\n",
      ">> Frequency;\r\n",
      "\r\n",
      "\r\n",
      "Oscillator(frequency: Frequency) >> AudioOut[0];\r\n",
      "\r\n",
      "#[Impulse( frequency: 0.5 ), 1.0]\r\n",
      "#>> Equal()\r\n",
      "#>> SeqTrigger\r\n",
      "#>> Sequencer(values: [ N::C4, N::E4, N::G4, N::C5 ])\r\n",
      "#>> Frequency;\r\n",
      "#\r\n",
      "#Oscillator(frequency: Frequency) >> AudioOut[0];\r\n"
     ]
    }
   ],
   "source": [
    "cat 16_sequencer.stride"
   ]
  },
  {
   "cell_type": "code",
   "execution_count": null,
   "metadata": {},
   "outputs": [],
   "source": [
    "out_text = ''\n",
    "\n",
    "phase = 0.0\n",
    "inc = 2.0 * np.pi* 440.0/44100.0\n",
    "\n",
    "for val1, val2 in zip(input1, input2):\n",
    "    output = sin(phase)\n",
    "    phase += inc\n",
    "    if phase > (2.0 * np.pi):\n",
    "        phase -= (2.0 * np.pi)\n",
    "        \n",
    "    \n",
    "    out_text += str(output) + \"\\n\" +\"0.0\\n\"\n",
    "\n",
    "out_file = open(\"16_sequencer.expected\", \"w\")\n",
    "out_file.write(out_text[:-1])\n",
    "\n",
    "pass"
   ]
  },
  {
   "cell_type": "code",
   "execution_count": 13,
   "metadata": {},
   "outputs": [],
   "source": [
    "\n",
    "\n",
    "f = open('/home/andres/Documents/src/Stride/build-Stride-Desktop_Qt_5_9_2_GCC_64bit2-Debug/tests/failed.output')"
   ]
  },
  {
   "cell_type": "code",
   "execution_count": 15,
   "metadata": {},
   "outputs": [],
   "source": [
    "f = open('/home/andres/Documents/src/Stride/build-Stride-Desktop_Qt_5_9_2_GCC_64bit2-Debug/tests/failed.output')\n",
    "values = [float(line) for line in f.readlines()]"
   ]
  },
  {
   "cell_type": "code",
   "execution_count": 17,
   "metadata": {},
   "outputs": [
    {
     "data": {
      "text/plain": [
       "[<matplotlib.lines.Line2D at 0x7f309c96a410>]"
      ]
     },
     "execution_count": 17,
     "metadata": {},
     "output_type": "execute_result"
    },
    {
     "data": {
      "image/png": "[encoded data removed]",
      "text/plain": [
       "<matplotlib.figure.Figure at 0x7f309c9b00d0>"
      ]
     },
     "metadata": {},
     "output_type": "display_data"
    }
   ],
   "source": [
    "plot(values[::2][:1024])"
   ]
  },
  {
   "cell_type": "code",
   "execution_count": 19,
   "metadata": {},
   "outputs": [],
   "source": [
    "f = open('/home/andres/Documents/src/Stride/Stride/strideroot/frameworks/RtAudio/1.0/_tests/platform/02_oscillator.expected')\n",
    "expected = [float(line) for line in f.readlines()]"
   ]
  },
  {
   "cell_type": "code",
   "execution_count": 26,
   "metadata": {},
   "outputs": [
    {
     "data": {
      "text/plain": [
       "[<matplotlib.lines.Line2D at 0x7f309cbf7ed0>]"
      ]
     },
     "execution_count": 26,
     "metadata": {},
     "output_type": "execute_result"
    },
    {
     "data": {
      "image/png": "[encoded data removed]",
      "text/plain": [
       "<matplotlib.figure.Figure at 0x7f309c80e510>"
      ]
     },
     "metadata": {},
     "output_type": "display_data"
    }
   ],
   "source": [
    "plot(np.array(expected)[:44100] - np.array(values))"
   ]
  },
  {
   "cell_type": "code",
   "execution_count": null,
   "metadata": {},
   "outputs": [],
   "source": []
  }
 ],
 "metadata": {
  "kernelspec": {
   "display_name": "Python 3",
   "language": "python",
   "name": "python3"
  },
  "language_info": {
   "codemirror_mode": {
    "name": "ipython",
    "version": 3
   },
   "file_extension": ".py",
   "mimetype": "text/x-python",
   "name": "python",
   "nbconvert_exporter": "python",
   "pygments_lexer": "ipython3",
   "version": "3.8.5"
  }
 },
 "nbformat": 4,
 "nbformat_minor": 4
}
