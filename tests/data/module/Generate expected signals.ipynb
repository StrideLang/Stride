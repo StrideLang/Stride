{
 "cells": [
  {
   "cell_type": "code",
   "execution_count": 12,
   "metadata": {},
   "outputs": [
    {
     "name": "stdout",
     "output_type": "stream",
     "text": [
      "Populating the interactive namespace from numpy and matplotlib\n"
     ]
    }
   ],
   "source": [
    "%pylab inline"
   ]
  },
  {
   "cell_type": "code",
   "execution_count": 13,
   "metadata": {},
   "outputs": [],
   "source": [
    "num_samples = 44100"
   ]
  },
  {
   "cell_type": "code",
   "execution_count": 14,
   "metadata": {},
   "outputs": [],
   "source": [
    "input1 = linspace(-1, 1, num_samples)\n",
    "input2 = linspace(1, -1, num_samples)"
   ]
  },
  {
   "cell_type": "code",
   "execution_count": 15,
   "metadata": {},
   "outputs": [
    {
     "data": {
      "text/plain": [
       "array([-1.        , -0.99995465, -0.99990929, -0.99986394, -0.99981859,\n",
       "       -0.99977324, -0.99972788, -0.99968253, -0.99963718, -0.99959183])"
      ]
     },
     "execution_count": 15,
     "metadata": {},
     "output_type": "execute_result"
    }
   ],
   "source": [
    "input1[0:10]"
   ]
  },
  {
   "cell_type": "code",
   "execution_count": 16,
   "metadata": {},
   "outputs": [
    {
     "name": "stdout",
     "output_type": "stream",
     "text": [
      "use DesktopAudio version 1.0\r\n",
      "\r\n",
      "import Generators\r\n",
      "\r\n",
      "module Test {\r\n",
      "\tports: [\r\n",
      "\t\tmainOutputPort OutputPort {\r\n",
      "\t\t\tblock: Output\r\n",
      "\t\t}\r\n",
      "\t]\r\n",
      "\tstreams: [\r\n",
      "\t\t10 >> Output;\r\n",
      "\t]\r\n",
      "}\r\n",
      "\r\n",
      "Test() >> AudioOut[0];\r\n"
     ]
    }
   ],
   "source": [
    "!cat 01_out.stride"
   ]
  },
  {
   "cell_type": "code",
   "execution_count": 17,
   "metadata": {},
   "outputs": [],
   "source": [
    "out_text = ''\n",
    "for val1, val2 in zip(input1, input2):\n",
    "    out_text += \"10.0\\n0.0\\n\"\n",
    "\n",
    "out_file = open(\"01_out.expected\", \"w\")\n",
    "out_file.write(out_text[:-1])\n",
    "pass"
   ]
  },
  {
   "cell_type": "markdown",
   "metadata": {},
   "source": [
    "02_in.stride has no meaningful output"
   ]
  },
  {
   "cell_type": "code",
   "execution_count": 18,
   "metadata": {},
   "outputs": [
    {
     "name": "stdout",
     "output_type": "stream",
     "text": [
      "use DesktopAudio version 1.0\r\n",
      "\r\n",
      "import Generators\r\n",
      "\r\n",
      "\r\n",
      "module Test {\r\n",
      "\tports: [\r\n",
      "\t\tmainOutputPort OutputPort {\r\n",
      "\t\t\tblock: Output\r\n",
      "\t\t}\r\n",
      "\t\tmainInputPort InputPort {\r\n",
      "\t\t\tblock: Input\r\n",
      "\t\t}\r\n",
      "\t]\r\n",
      "\tstreams: [\r\n",
      "\t\tInput >> Output;\r\n",
      "\t]\r\n",
      "}\r\n",
      "\r\n",
      "AudioIn[1] >> Test() >> AudioOut[0];\r\n"
     ]
    }
   ],
   "source": [
    "!cat 03_in_and_out.stride"
   ]
  },
  {
   "cell_type": "code",
   "execution_count": 19,
   "metadata": {},
   "outputs": [],
   "source": [
    "out_text = ''\n",
    "for val1, val2 in zip(input1, input2):\n",
    "    out_text += str(val2) + \"\\n0.0\\n\"\n",
    "\n",
    "out_file = open(\"03_in_and_out.expected\", \"w\")\n",
    "out_file.write(out_text[:-1])\n",
    "pass"
   ]
  },
  {
   "cell_type": "code",
   "execution_count": 20,
   "metadata": {},
   "outputs": [
    {
     "name": "stdout",
     "output_type": "stream",
     "text": [
      "use DesktopAudio version 1.0\r\n",
      "\r\n",
      "module Test {\r\n",
      "\tports: [\r\n",
      "\t\tmainOutputPort OutputPort {\r\n",
      "\t\t\tblock: Output\r\n",
      "\t\t}\r\n",
      "\t\tmainInputPort InputPort {\r\n",
      "\t\t\tblock: Input\r\n",
      "\t\t}\r\n",
      "\t\tpropertyInputPort TestPort {\r\n",
      "\t\t\tname: \"test\"\r\n",
      "\t\t\tblock: TestBlock\r\n",
      "\t\t}\r\n",
      "\t]\r\n",
      "\tstreams: [\r\n",
      "\t\tInput * TestBlock >> Output;\r\n",
      "\t\t]\r\n",
      "}\r\n",
      "\r\n",
      "AudioIn[0] >> Test(test: 0.5) >> AudioOut[0];\r\n",
      "AudioIn[1] >> Test(test: 0.25) >> AudioOut[1];\r\n"
     ]
    }
   ],
   "source": [
    "!cat 04_port.stride"
   ]
  },
  {
   "cell_type": "code",
   "execution_count": 21,
   "metadata": {},
   "outputs": [],
   "source": [
    "out_text = ''\n",
    "for val1, val2 in zip(input1, input2):\n",
    "    out_text += str(0.5 * val1) + \"\\n\" + str(0.25 * val2) +  \"\\n\"\n",
    "\n",
    "out_file = open(\"04_port.expected\", \"w\")\n",
    "out_file.write(out_text[:-1])\n",
    "pass"
   ]
  },
  {
   "cell_type": "code",
   "execution_count": 22,
   "metadata": {},
   "outputs": [],
   "source": [
    "!cp 04_port.expected 04a_port_signal.expected"
   ]
  },
  {
   "cell_type": "code",
   "execution_count": 23,
   "metadata": {},
   "outputs": [],
   "source": [
    "!cp 04_port.expected 04b_port_constant.expected"
   ]
  },
  {
   "cell_type": "code",
   "execution_count": 24,
   "metadata": {},
   "outputs": [
    {
     "name": "stdout",
     "output_type": "stream",
     "text": [
      "use DesktopAudio version 1.0\r\n",
      "\r\n",
      "import Generators\r\n",
      "\r\n",
      "\r\n",
      "module Test {\r\n",
      "\tports: [\r\n",
      "\t\tmainOutputPort OutputPort {\r\n",
      "\t\t\tblock: Output\r\n",
      "\t\t}\r\n",
      "\t\tmainInputPort InputPort {\r\n",
      "\t\t\tblock: Input\r\n",
      "\t\t}\r\n",
      "\t\tpropertyInputPort TestPort {\r\n",
      "\t\t\tname: \"test\"\r\n",
      "\t\t\tblock: TestBlock\r\n",
      "\t\t}\r\n",
      "\t]\r\n",
      "\tstreams: [\r\n",
      "\t\tInput * TestBlock >> Output;\r\n",
      "\t\t]\r\n",
      "}\r\n",
      "\r\n",
      "AudioIn[0] >> Test(test: AudioIn[1]) >> AudioOut[0];\r\n"
     ]
    }
   ],
   "source": [
    "!cat 04c_port_platformbundle.stride"
   ]
  },
  {
   "cell_type": "code",
   "execution_count": 25,
   "metadata": {},
   "outputs": [],
   "source": [
    "out_text = ''\n",
    "for val1, val2 in zip(input1, input2):\n",
    "    out_text += str(val1 * val2) + \"\\n\" + str(0.0) +  \"\\n\"\n",
    "\n",
    "out_file = open(\"04c_port_platformbundle.expected\", \"w\")\n",
    "out_file.write(out_text[:-1])\n",
    "pass"
   ]
  },
  {
   "cell_type": "code",
   "execution_count": 26,
   "metadata": {},
   "outputs": [
    {
     "name": "stdout",
     "output_type": "stream",
     "text": [
      "use DesktopAudio version 1.0\r\n",
      "\r\n",
      "module Test {\r\n",
      "\tports: [\r\n",
      "\t\tmainOutputPort OutputPort {\r\n",
      "\t\t\tblock: Output\r\n",
      "\t\t}\r\n",
      "\t\tmainInputPort InputPort {\r\n",
      "\t\t\tblock: Input\r\n",
      "\t\t}\r\n",
      "\t\tpropertyInputPort TestPort {\r\n",
      "\t\t\tname: \"test\"\r\n",
      "\t\t\tblock: TestBlock\r\n",
      "\t\t}\r\n",
      "\t]\r\n",
      "\tblocks: [\r\n",
      "\t\tsignal Amp { domain: TestPort.domain }\r\n",
      "\t]\r\n",
      "\tstreams: [\r\n",
      "\t\tTestBlock * 2 >> Amp;\r\n",
      "\t\tInput * Amp >> Output;\r\n",
      "\t]\r\n",
      "}\r\n",
      "\r\n",
      "AudioIn[0] >> Test(test: AudioIn[1]) >> AudioOut[0];\r\n"
     ]
    }
   ],
   "source": [
    "!cat 05_port_domain.stride"
   ]
  },
  {
   "cell_type": "code",
   "execution_count": 27,
   "metadata": {},
   "outputs": [],
   "source": [
    "out_text = ''\n",
    "for val1, val2 in zip(input1, input2):\n",
    "    out_text += str(val1 * val2 * 2) + \"\\n\" + str(0.0) +  \"\\n\"\n",
    "\n",
    "out_file = open(\"05_port_domain.expected\", \"w\")\n",
    "out_file.write(out_text[:-1])\n",
    "pass"
   ]
  },
  {
   "cell_type": "code",
   "execution_count": 28,
   "metadata": {},
   "outputs": [
    {
     "name": "stdout",
     "output_type": "stream",
     "text": [
      "use DesktopAudio version 1.0\r\n",
      "\r\n",
      "import Generators\r\n",
      "\r\n",
      "\r\n",
      "module Test {\r\n",
      "\tports: [\r\n",
      "\t\tmainOutputPort OutputPort {\r\n",
      "\t\t\tblock: Output\r\n",
      "\t\t}\r\n",
      "\t\tmainInputPort InputPort {\r\n",
      "\t\t\tblock: Input\r\n",
      "\t\t}\r\n",
      "\t\tpropertyInputPort TestPort {\r\n",
      "\t\t\tname: \"test\"\r\n",
      "\t\t\tblock: TestBlock\r\n",
      "\t\t}\r\n",
      "\t]\r\n",
      "\tblocks: [\r\n",
      "\t\tsignal Input {domain: OutputPort.domain}\r\n",
      "\t\tsignal Output {domain: OutputPort.domain}\r\n",
      "\t\tsignal TestBlock {domain: OutputPort.domain}\r\n",
      "\t]\r\n",
      "\tstreams: [\r\n",
      "\t\tInput * TestBlock >> Output;\r\n",
      "\t\t]\r\n",
      "}\r\n",
      "\r\n",
      "signal Quarter {default: 0.25}\r\n",
      "\r\n",
      "AudioIn[0] >> Test(test: 0.5) >> AudioOut[0];\r\n",
      "AudioIn[1] >> Test(test: Quarter) >> AudioOut[1];\r\n"
     ]
    }
   ],
   "source": [
    "!cat 05a_ports_same_domain.stride"
   ]
  },
  {
   "cell_type": "code",
   "execution_count": 29,
   "metadata": {},
   "outputs": [],
   "source": [
    "out_text = ''\n",
    "for val1, val2 in zip(input1, input2):\n",
    "    out_text += str(val1 * 0.5) + \"\\n\" + str(val2* 0.25) +  \"\\n\"\n",
    "\n",
    "out_file = open(\"05a_ports_same_domain.expected\", \"w\")\n",
    "out_file.write(out_text[:-1])\n",
    "pass"
   ]
  },
  {
   "cell_type": "code",
   "execution_count": 30,
   "metadata": {},
   "outputs": [
    {
     "name": "stdout",
     "output_type": "stream",
     "text": [
      "use DesktopAudio version 1.0\r\n",
      "\r\n",
      "module Test {\r\n",
      "\tports: [\r\n",
      "\t\tmainOutputPort OutputPort {\r\n",
      "\t\t\tblock: Output\r\n",
      "\t\t}\r\n",
      "\t\tmainInputPort InputPort {\r\n",
      "\t\t\tblock: Input\r\n",
      "\t\t}\r\n",
      "\t\tpropertyInputPort TestPort {\r\n",
      "\t\t\tname: \"test\"\r\n",
      "\t\t\tblock: TestBlock\r\n",
      "\t\t\tdomain: OutputPort.domain\r\n",
      "\t\t}\r\n",
      "\t]\r\n",
      "\tblocks: [\r\n",
      "#\tAmp should be auto declared in OutputDomain\r\n",
      "\t]\r\n",
      "\tstreams: [\r\n",
      "\t\tTestBlock * 2 >> Amp;\r\n",
      "\t\tInput * Amp >> Output;\r\n",
      "\t]\r\n",
      "}\r\n",
      "\r\n",
      "AudioIn[0] >> Test(test: AudioIn[1]) >> AudioOut[0];\r\n"
     ]
    }
   ],
   "source": [
    "!cat 06_port_domain.stride"
   ]
  },
  {
   "cell_type": "code",
   "execution_count": 31,
   "metadata": {},
   "outputs": [],
   "source": [
    "!cp 05_port_domain.expected 06_port_domain.expected"
   ]
  },
  {
   "cell_type": "code",
   "execution_count": 32,
   "metadata": {},
   "outputs": [
    {
     "name": "stdout",
     "output_type": "stream",
     "text": [
      "use DesktopAudio version 1.0\r\n",
      "\r\n",
      "module Test {\r\n",
      "\tports: [\r\n",
      "\t\tmainOutputPort OutputPort {\r\n",
      "\t\t\tblock: Output\r\n",
      "\t\t}\r\n",
      "\t\tmainInputPort InputPort {\r\n",
      "\t\t\tblock: Input\r\n",
      "\t\t\tdomain: OutputPort.domain\r\n",
      "\t\t}\r\n",
      "\t\tpropertyInputPort TestPort {\r\n",
      "\t\t\tname: \"test\"\r\n",
      "\t\t\tblock: TestBlock\r\n",
      "\t\t\tdomain: OutputPort.domain\r\n",
      "\t\t}\r\n",
      "\t\tpropertyInputPort TestPort2 {\r\n",
      "\t\t\tname: \"test2\"\r\n",
      "\t\t\tblock: TestBlock2\r\n",
      "\t\t\tdomain: OutputPort.domain\r\n",
      "\t\t}\r\n",
      "\t]\r\n",
      "\tblocks: [\r\n",
      "#\t\tsignal Amp { domain: TestPort.domain }\r\n",
      "\t]\r\n",
      "\tstreams: [\r\n",
      "\t\tTestBlock * TestBlock2 >> Amp;\r\n",
      "\t\tInput * Amp >> Output;\r\n",
      "\t]\r\n",
      "}\r\n",
      "\r\n",
      "module Test2 {\r\n",
      "\tports: [\r\n",
      "\t\tpropertyInputPort TestPort2 {\r\n",
      "\t\t\tname: \"test2\"\r\n",
      "\t\t\tblock: TestBlock2\r\n",
      "\t\t\tdomain: OutputPort.domain\r\n",
      "\t\t}\r\n",
      "\t\tmainInputPort InputPort {\r\n",
      "\t\t\tblock: Input\r\n",
      "\t\t\tdomain: OutputPort.domain\r\n",
      "\t\t}\r\n",
      "\t\tpropertyInputPort TestPort {\r\n",
      "\t\t\tname: \"test\"\r\n",
      "\t\t\tblock: TestBlock\r\n",
      "\t\t\tdomain: OutputPort.domain\r\n",
      "\t\t}\r\n",
      "\t\tmainOutputPort OutputPort {\r\n",
      "\t\t\tblock: Output\r\n",
      "\t\t\tdomain: OutputPort.domain\r\n",
      "\t\t}\r\n",
      "\t]\r\n",
      "\tblocks: [\r\n",
      "#\t\tsignal Amp { domain: TestPort.domain }\r\n",
      "\t]\r\n",
      "\tstreams: [\r\n",
      "\t\tTestBlock * TestBlock2 >> Amp;\r\n",
      "\t\tInput * Amp >> Output;\r\n",
      "\t]\r\n",
      "}\r\n",
      "\r\n",
      "signal SigIn[2] { domain: AudioDomain}\r\n",
      "\r\n",
      "AudioIn >> SigIn;\r\n",
      "\r\n",
      "SigIn[0] >> Test(test: AudioIn[0] test2:AudioIn[1]) >> AudioOut[0];\r\n",
      "\r\n",
      "SigIn[1] >> Test2(test: AudioIn[0] test2:AudioIn[1]) >> AudioOut[1];\r\n"
     ]
    }
   ],
   "source": [
    "!cat 07_port_in_token_order.stride"
   ]
  },
  {
   "cell_type": "code",
   "execution_count": 33,
   "metadata": {},
   "outputs": [],
   "source": [
    "out_text = ''\n",
    "for val1, val2 in zip(input1, input2):\n",
    "    out_text += str(val1 * val2 * val1) + \"\\n\" + str(val2* val2*val1) +  \"\\n\"\n",
    "\n",
    "out_file = open(\"07_port_in_token_order.expected\", \"w\")\n",
    "out_file.write(out_text[:-1])\n",
    "pass"
   ]
  },
  {
   "cell_type": "code",
   "execution_count": 34,
   "metadata": {},
   "outputs": [
    {
     "name": "stdout",
     "output_type": "stream",
     "text": [
      "use DesktopAudio version 1.0\r\n",
      "\r\n",
      "module Test {\r\n",
      "\tports: [\r\n",
      "\t\tmainOutputPort OutputPort {\r\n",
      "\t\t\tblock: Output\r\n",
      "\t\t\tdomain: OutputPort.domain\r\n",
      "\t\t}\r\n",
      "\t\tmainInputPort InputPort {\r\n",
      "\t\t\tblock: Input\r\n",
      "\t\t\tdomain: OutputPort.domain\r\n",
      "\t\t}\r\n",
      "\t\tpropertyInputPort TestPort {\r\n",
      "\t\t\tname: \"test\"\r\n",
      "\t\t\tblock: TestBlock\r\n",
      "\t\t\tdefault: 0.8\r\n",
      "\t\t}\r\n",
      "\t]\r\n",
      "\tblocks: [\r\n",
      "\t]\r\n",
      "\tstreams: [\r\n",
      "\t\tInput * TestBlock >> Output;\r\n",
      "\t]\r\n",
      "}\r\n",
      "\r\n",
      "AudioIn[0] >> Test(test: AudioIn[1]) >> AudioOut[0];\r\n",
      "AudioIn[1] >> Test() >> AudioOut[1];\r\n"
     ]
    }
   ],
   "source": [
    "!cat 08_default_port_values.stride"
   ]
  },
  {
   "cell_type": "code",
   "execution_count": 35,
   "metadata": {},
   "outputs": [],
   "source": [
    "out_text = ''\n",
    "for val1, val2 in zip(input1, input2):\n",
    "    out_text += str(val1 * val2) + \"\\n\" + str(val2 * 0.8) +  \"\\n\"\n",
    "\n",
    "out_file = open(\"08_default_port_values.expected\", \"w\")\n",
    "out_file.write(out_text[:-1])\n",
    "pass"
   ]
  },
  {
   "cell_type": "code",
   "execution_count": 36,
   "metadata": {},
   "outputs": [
    {
     "name": "stdout",
     "output_type": "stream",
     "text": [
      "use DesktopAudio version 1.0\r\n",
      "\r\n",
      "module Test {\r\n",
      "\tports: [\r\n",
      "\t\tmainOutputPort OutputPort {\r\n",
      "\t\t\tblock: Output\r\n",
      "\t\t}\r\n",
      "\t\tmainInputPort InputPort {\r\n",
      "\t\t\tblock: Input\r\n",
      "\t\t\tdomain: OutputPort.domain\r\n",
      "\t\t}\r\n",
      "\t\tpropertyInputPort TestPort {\r\n",
      "\t\t\tname: \"test\"\r\n",
      "\t\t\tblock: TestBlock\r\n",
      "\t\t\tdefault: 1.0\r\n",
      "\t\t}\r\n",
      "\t]\r\n",
      "\tblocks: [\r\n",
      "\t\tsignal Output[2] {}\r\n",
      "\t]\r\n",
      "\tstreams: [\r\n",
      "\t\tInput * TestBlock >> Output[0];\r\n",
      "\t\tInput >> Output[1];\r\n",
      "\t]\r\n",
      "}\r\n",
      "\r\n",
      "signal SigIn[2] { domain: AudioDomain }\r\n",
      "\r\n",
      "AudioIn >> SigIn;\r\n",
      "\r\n",
      "SigIn[0] >> Test(test: SigIn[1]) >> AudioOut;\r\n"
     ]
    }
   ],
   "source": [
    "!cat 09_bundle_out.stride"
   ]
  },
  {
   "cell_type": "code",
   "execution_count": 37,
   "metadata": {},
   "outputs": [],
   "source": [
    "out_text = ''\n",
    "for val1, val2 in zip(input1, input2):\n",
    "    out_text += str(val1 * val2) + \"\\n\" + str(val1) +  \"\\n\"\n",
    "\n",
    "out_file = open(\"09_bundle_out.expected\", \"w\")\n",
    "out_file.write(out_text[:-1])\n",
    "pass"
   ]
  },
  {
   "cell_type": "code",
   "execution_count": 38,
   "metadata": {},
   "outputs": [
    {
     "name": "stdout",
     "output_type": "stream",
     "text": [
      "use DesktopAudio version 1.0\r\n",
      "\r\n",
      "module Test {\r\n",
      "\tports: [\r\n",
      "\t\tmainOutputPort OutputPort {\r\n",
      "\t\t\tblock: Output\r\n",
      "\t\t}\r\n",
      "\t\tmainInputPort InputPort {\r\n",
      "\t\t\tblock: Input\r\n",
      "\t\t}\r\n",
      "\t]\r\n",
      "\tblocks: [\r\n",
      "\t\tsignal Input[2] {}\r\n",
      "\t\tsignal Output[2] {}\r\n",
      "\t]\r\n",
      "\tstreams: [\r\n",
      "\t\tInput[0] >> Output[0];\r\n",
      "\t\tInput[0] + Input[1] >> Output[1];\r\n",
      "\t]\r\n",
      "}\r\n",
      "\r\n",
      "signal SigIn[2] { rate: AudioRate domain: AudioDomain }\r\n",
      "signal OutA[2] { rate: AudioRate domain: AudioDomain }\r\n",
      "signal OutB[2] { rate: AudioRate domain: AudioDomain }\r\n",
      "\r\n",
      "AudioIn >> SigIn;\r\n",
      "\r\n",
      "SigIn >> Test() >> OutA;\r\n",
      "[SigIn[1], SigIn[0]] >> Test() >> OutB;\r\n",
      "OutA[1] + OutB[0] >> AudioOut[0];\r\n",
      "OutA[0] + OutB[1] >> AudioOut[1];\r\n"
     ]
    }
   ],
   "source": [
    "!cat 10_bundle_in.stride"
   ]
  },
  {
   "cell_type": "code",
   "execution_count": 39,
   "metadata": {},
   "outputs": [],
   "source": [
    "out_text = ''\n",
    "for val1, val2 in zip(input1, input2):\n",
    "    out_text += str(val1 + val2 + val2) + \"\\n\" + str(val1 + val1 + val2) +  \"\\n\"\n",
    "\n",
    "out_file = open(\"10_bundle_in.expected\", \"w\")\n",
    "out_file.write(out_text[:-1])\n",
    "pass"
   ]
  },
  {
   "cell_type": "code",
   "execution_count": 40,
   "metadata": {},
   "outputs": [
    {
     "name": "stdout",
     "output_type": "stream",
     "text": [
      "use DesktopAudio version 1.0\r\n",
      "\r\n",
      "module UsedInTest {\r\n",
      "\tports: [\r\n",
      "\t\tmainOutputPort OutputPortA {\r\n",
      "\t\t\tblock: Output\r\n",
      "\t\t}\r\n",
      "\t\tmainInputPort InputPortA {\r\n",
      "\t\t\tblock: Input\r\n",
      "\t\t}\r\n",
      "\t]\r\n",
      "\tblocks: [\r\n",
      "\t\tsignal Output {\t\t\t\r\n",
      "\t\t\tdomain:\tOutputPortA.domain\r\n",
      "\t\t}\r\n",
      "\t\tsignal Input {\t\t\t\r\n",
      "\t\t\tdomain:\tOutputPortA.domain\r\n",
      "\t\t}\r\n",
      "\t]\r\n",
      "\tstreams: [\r\n",
      "\t\tInput - 1 >> Output;\r\n",
      "\t]\r\n",
      "}\r\n",
      "\r\n",
      "module Test {\r\n",
      "\tports: [\r\n",
      "\t\tmainOutputPort OutputPort {\r\n",
      "\t\t\tblock: Output\r\n",
      "\t\t}\r\n",
      "\t\tmainInputPort InputPort {\r\n",
      "\t\t\tblock: Input\r\n",
      "\t\t}\r\n",
      "\t]\r\n",
      "\tblocks: [\r\n",
      "\t\tsignal Output {\r\n",
      "\t\t\trate: OutputPort.rate\t\t\t\r\n",
      "\t\t\tdomain:\tOutputPort.domain\r\n",
      "\t\t}\r\n",
      "\t\tsignal Input {\r\n",
      "\t\t\trate: OutputPort.rate\t\t\t\r\n",
      "\t\t\tdomain:\tOutputPort.domain\r\n",
      "\t\t}\r\n",
      "\t]\r\n",
      "\tstreams: [\r\n",
      "\t\tInput * 2 >> UsedInTest() >> Output;\r\n",
      "\t]\r\n",
      "}\r\n",
      "\r\n",
      "AudioIn >> Test() >> AudioOut;\r\n"
     ]
    }
   ],
   "source": [
    "!cat 11_module_call_module.stride"
   ]
  },
  {
   "cell_type": "code",
   "execution_count": 41,
   "metadata": {},
   "outputs": [],
   "source": [
    "out_text = ''\n",
    "for val1, val2 in zip(input1, input2):\n",
    "    out_text += str((2.0 * val1) -  1.0) + \"\\n\" + str((2.0 * val2) - 1.0) +  \"\\n\"\n",
    "\n",
    "out_file = open(\"11_module_call_module.expected\", \"w\")\n",
    "out_file.write(out_text[:-1])\n",
    "pass"
   ]
  },
  {
   "cell_type": "code",
   "execution_count": 42,
   "metadata": {},
   "outputs": [
    {
     "name": "stdout",
     "output_type": "stream",
     "text": [
      "use DesktopAudio version 1.0\r\n",
      "\r\n",
      "module UsedInTest {\r\n",
      "\tports: [\r\n",
      "\t\tmainOutputPort OutputPort {\r\n",
      "\t\t\tblock: Output\r\n",
      "\t\t}\r\n",
      "\t\tmainInputPort InputPort {\r\n",
      "\t\t\tblock: Input\r\n",
      "\t\t}\r\n",
      "\t]\r\n",
      "\tblocks: [\r\n",
      "\t\tsignal Input {domain: OutputPort.domain}\r\n",
      "\t\tsignal Output {domain: OutputPort.domain}\r\n",
      "\t]\r\n",
      "\tstreams: [\r\n",
      "\t\tInput - 1 >> Output;\r\n",
      "\t]\r\n",
      "}\r\n",
      "\r\n",
      "module Test {\r\n",
      "\tports: [\r\n",
      "\t\tmainOutputPort OutputPort {\r\n",
      "\t\t\tblock: Output\r\n",
      "\t\t}\r\n",
      "\t\tmainInputPort InputPort {\r\n",
      "\t\t\tblock: Input\r\n",
      "\t\t}\r\n",
      "\t]\r\n",
      "\tblocks: [\r\n",
      "\t\tsignal Input {domain: OutputPort.domain}\r\n",
      "\t\tsignal Output {domain: OutputPort.domain}\r\n",
      "\t]\r\n",
      "\tstreams: [\r\n",
      "\t\tInput * 2 >> UsedInTest() >> Output;\r\n",
      "\t]\r\n",
      "}\r\n",
      "\r\n",
      "\r\n",
      "module Test2 {\r\n",
      "\tports: [\r\n",
      "\t\tmainOutputPort OutputPort {\r\n",
      "\t\t\tblock: Output\r\n",
      "\t\t}\r\n",
      "\t\tmainInputPort InputPort {\r\n",
      "\t\t\tblock: Input\r\n",
      "\t\t}\r\n",
      "\t]\r\n",
      "\tblocks: [\r\n",
      "\t\tsignal Input {domain: OutputPort.domain}\r\n",
      "\t\tsignal Output {domain: OutputPort.domain}\r\n",
      "\t]\r\n",
      "\tstreams: [\r\n",
      "\t\tInput / 3 >> UsedInTest() >> Output;\r\n",
      "\t]\r\n",
      "}\r\n",
      "\r\n",
      "\r\n",
      "AudioIn[0] >> Test() >>  Test2() >>AudioOut[0];\r\n",
      "AudioIn[1] >> Test() >>  Test2() >>AudioOut[1];\r\n"
     ]
    }
   ],
   "source": [
    "!cat 12_called_multiple_times.stride"
   ]
  },
  {
   "cell_type": "code",
   "execution_count": 43,
   "metadata": {},
   "outputs": [],
   "source": [
    "out_text = ''\n",
    "\n",
    "def process(inval):\n",
    "    return (((inval * 2) - 1)/3) - 1\n",
    "    \n",
    "for val1, val2 in zip(input1, input2):\n",
    "    out_text += str(process(val1)) + \"\\n\" + str(process(val2)) +  \"\\n\"\n",
    "\n",
    "out_file = open(\"12_called_multiple_times.expected\", \"w\")\n",
    "out_file.write(out_text[:-1])\n",
    "pass"
   ]
  },
  {
   "cell_type": "code",
   "execution_count": 44,
   "metadata": {},
   "outputs": [
    {
     "name": "stdout",
     "output_type": "stream",
     "text": [
      "use DesktopAudio version 1.0\r\n",
      "\r\n",
      "module UsedInTest {\r\n",
      "\tports: [\r\n",
      "\t\tmainOutputPort OutputPort {\r\n",
      "\t\t\tblock: Output\r\n",
      "\t\t\tdomain: OutputPort.domain\r\n",
      "\t\t}\r\n",
      "\t\tmainInputPort InputPort {\r\n",
      "\t\t\tblock: Input\r\n",
      "\t\t\tdomain: OutputPort.domain\r\n",
      "\t\t}\r\n",
      "\t]\r\n",
      "\tstreams: [\r\n",
      "\t\tInput - 1 >> Output;\r\n",
      "\t]\r\n",
      "}\r\n",
      "\r\n",
      "module Test {\r\n",
      "\tports: [\r\n",
      "\t\tmainOutputPort OutputPort {\r\n",
      "\t\t\tblock: Output\r\n",
      "\t\t\tdomain: OutputPort.domain\r\n",
      "\t\t}\r\n",
      "\t\tmainInputPort InputPort {\r\n",
      "\t\t\tblock: Input\r\n",
      "\t\t\tdomain: OutputPort.domain\r\n",
      "\t\t}\r\n",
      "\t]\r\n",
      "\tstreams: [\r\n",
      "\t\tInput * 2 >> UsedInTest() >> UsedInTest() >> UsedInTest() >> Output;\r\n",
      "\t]\r\n",
      "}\r\n",
      "\r\n",
      "AudioIn[0] >> Test() >> AudioOut[0];\r\n",
      "AudioIn[1] >> Test() >> AudioOut[1];\r\n"
     ]
    }
   ],
   "source": [
    "!cat 13_dependencies.stride"
   ]
  },
  {
   "cell_type": "code",
   "execution_count": 45,
   "metadata": {},
   "outputs": [],
   "source": [
    "out_text = ''\n",
    "\n",
    "def process(inval):\n",
    "    return (((inval * 2)  - 3))\n",
    "    \n",
    "for val1, val2 in zip(input1, input2):\n",
    "    out_text += str(process(val1)) + \"\\n\" + str(process(val2)) +  \"\\n\"\n",
    "\n",
    "out_file = open(\"13_dependencies.expected\", \"w\")\n",
    "out_file.write(out_text[:-1])\n",
    "pass"
   ]
  },
  {
   "cell_type": "code",
   "execution_count": 46,
   "metadata": {},
   "outputs": [
    {
     "name": "stdout",
     "output_type": "stream",
     "text": [
      "use DesktopAudio version 1.0\r\n",
      "\r\n",
      "module TestSwitch {\r\n",
      "\tports: [\r\n",
      "\t\tmainInputPort InputPort {\r\n",
      "\t\t\tblock: Input\r\n",
      "\t\t}\r\n",
      "\t\tmainOutputPort OutputPort {\r\n",
      "\t\t\tblock: Output\r\n",
      "\t\t}\r\n",
      "\t\tpropertyInputPort UnusedPort {\r\n",
      "\t\t\tname: \"unused\"\r\n",
      "\t\t\tblock: Unused\r\n",
      "\t\t}\r\n",
      "\t]\r\n",
      "\tblocks: [\r\n",
      "\t\tsignal Counter {} # Should not be declared or used\r\n",
      "\t\tsignal Input {domain: OutputPort.domain}\r\n",
      "\t]\r\n",
      "\tstreams: [\r\n",
      "\t\tInput >> Output;\r\n",
      "\t]\r\n",
      "\t\r\n",
      "}\r\n",
      "\r\n",
      "signal UnusedInside {}\r\n",
      "\r\n",
      "AudioIn[0]\r\n",
      ">> TestSwitch (unused: Reset)\r\n",
      ">> AudioOut[0];\r\n"
     ]
    }
   ],
   "source": [
    "!cat 14_unused_port_block.stride"
   ]
  },
  {
   "cell_type": "code",
   "execution_count": 47,
   "metadata": {},
   "outputs": [],
   "source": [
    "out_text = ''\n",
    "\n",
    "for val1, val2 in zip(input1, input2):\n",
    "    out_text += str(val1) + \"\\n\" + str(0.0) +  \"\\n\"\n",
    "\n",
    "out_file = open(\"14_unused_port_block.expected\", \"w\")\n",
    "out_file.write(out_text[:-1])\n",
    "pass"
   ]
  },
  {
   "cell_type": "code",
   "execution_count": 48,
   "metadata": {},
   "outputs": [
    {
     "name": "stdout",
     "output_type": "stream",
     "text": [
      "use DesktopAudio version 1.0\r\n",
      "\r\n",
      "import Generators\r\n",
      "\r\n",
      "AudioIn[0] >> Level(gain: 0.3) >> AudioOut[0];"
     ]
    }
   ],
   "source": [
    "!cat 15_library_module.stride"
   ]
  },
  {
   "cell_type": "code",
   "execution_count": 49,
   "metadata": {},
   "outputs": [],
   "source": [
    "out_text = ''\n",
    "\n",
    "value = 0\n",
    "\n",
    "for val1, val2 in zip(input1, input2):\n",
    "    out_text += str(val1* 0.3) + \"\\n0.0\\n\"\n",
    "\n",
    "out_file = open(\"15_library_module.expected\", \"w\")\n",
    "out_file.write(out_text[:-1])\n",
    "pass"
   ]
  },
  {
   "cell_type": "code",
   "execution_count": 50,
   "metadata": {},
   "outputs": [
    {
     "name": "stdout",
     "output_type": "stream",
     "text": [
      "use DesktopAudio version 1.0\r\n",
      "\r\n",
      "#import Generators\r\n",
      "\r\n",
      "AudioIn[0] >> Sin() >> AudioOut[0];\r\n"
     ]
    }
   ],
   "source": [
    "!cat 16_platform_module.stride"
   ]
  },
  {
   "cell_type": "code",
   "execution_count": 51,
   "metadata": {},
   "outputs": [],
   "source": [
    "out_text = ''\n",
    "  \n",
    "for val1, val2 in zip(input1, input2):\n",
    "    out_text += str(sin(val1)) + \"\\n0.0\\n\"\n",
    "\n",
    "out_file = open(\"16_platform_module.expected\", \"w\")\n",
    "out_file.write(out_text[:-1])\n",
    "pass"
   ]
  },
  {
   "cell_type": "code",
   "execution_count": 52,
   "metadata": {},
   "outputs": [
    {
     "name": "stdout",
     "output_type": "stream",
     "text": [
      "use DesktopAudio version 1.0\r\n",
      "\r\n",
      "import Generators\r\n",
      "\r\n",
      "module UsedInTest {\r\n",
      "    ports: [\r\n",
      "\t\tmainInputPort InputPort {\r\n",
      "\t\t\tblock: Input\r\n",
      "\t\t},\r\n",
      "\t\tmainOutputPort OutputPort {\r\n",
      "\t\t\tblock: Output\r\n",
      "\t\t},\r\n",
      "\t\tpropertyInputPort PortInputPort2 {\r\n",
      "\t\t\tname: \"portInput2\"\r\n",
      "\t\t\tblock: PortInput2\r\n",
      "\t\t\tdefault: 0.5\r\n",
      "\t\t\tmeta: \"The frequency of the oscillator.\"\r\n",
      "\t\t}\r\n",
      "    ]\r\n",
      "    blocks: [\r\n",
      "    ]\r\n",
      "    streams: [\r\n",
      "        PortInput2 * Input >> Output;\r\n",
      "    ]\r\n",
      "\r\n",
      "}\r\n",
      "\r\n",
      "module Test {\r\n",
      "    ports: [\r\n",
      "        mainInputPort InputPort {\r\n",
      "\t\t\tblock: Input\r\n",
      "\t\t},\r\n",
      "\t\tmainOutputPort OutputPort {\r\n",
      "\t\t\tblock: Output\r\n",
      "\t\t},\r\n",
      "\t\tpropertyInputPort PortInputPort {\r\n",
      "\t\t\tname: \"portInput\"\r\n",
      "\t\t\tblock: PortInput\r\n",
      "\t\t\tdefault: 0.4\r\n",
      "\t\t\tmeta: \"The frequency of the oscillator.\"\r\n",
      "\t\t}\r\n",
      "\t\t\r\n",
      "    ]\r\n",
      "    blocks: [\r\n",
      "    ]\r\n",
      "    streams: [\r\n",
      "        Input >> UsedInTest(portInput2: PortInput) >> Output;\r\n",
      "    ]\r\n",
      "}\r\n",
      "\r\n",
      "\r\n",
      "AudioIn[0] >> Test(portInput: AudioIn[1]) >> AudioOut[1];"
     ]
    }
   ],
   "source": [
    "!cat 17_port_to_port.stride"
   ]
  },
  {
   "cell_type": "code",
   "execution_count": 53,
   "metadata": {},
   "outputs": [],
   "source": [
    "out_text = ''\n",
    "  \n",
    "for val1, val2 in zip(input1, input2):\n",
    "    out_text += \"0.0\\n\" + str(val1 * val2) + \"\\n\"\n",
    "\n",
    "out_file = open(\"17_port_to_port.expected\", \"w\")\n",
    "out_file.write(out_text[:-1])\n",
    "pass"
   ]
  },
  {
   "cell_type": "code",
   "execution_count": 54,
   "metadata": {},
   "outputs": [
    {
     "name": "stdout",
     "output_type": "stream",
     "text": [
      "use DesktopAudio version 1.0\r\n",
      "\r\n",
      "import Generators\r\n",
      "\r\n",
      "\r\n",
      "module Test {\r\n",
      "    ports: [\r\n",
      "        mainInputPort InputPort {\r\n",
      "\t\t\tblock: Input\r\n",
      "\t\t},\r\n",
      "\t\tmainOutputPort OutputPort {\r\n",
      "\t\t\tblock: Output\r\n",
      "\t\t}\r\n",
      "    ]\r\n",
      "    blocks: [\r\n",
      "    ]\r\n",
      "    streams: [\r\n",
      "        Input / OutputPort.rate >> Output;\r\n",
      "    ]\r\n",
      "}\r\n",
      "\r\n",
      "\r\n",
      "AudioIn[0] >> Test() >> AudioOut[0];"
     ]
    }
   ],
   "source": [
    "!cat 18_port_property.stride"
   ]
  },
  {
   "cell_type": "code",
   "execution_count": 55,
   "metadata": {},
   "outputs": [],
   "source": [
    "out_text = ''\n",
    "  \n",
    "for val1, val2 in zip(input1, input2):\n",
    "    out_text += str(val1 /44100.0) + \"\\n0.0\\n\"\n",
    "\n",
    "out_file = open(\"18_port_property.expected\", \"w\")\n",
    "out_file.write(out_text[:-1])\n",
    "pass"
   ]
  },
  {
   "cell_type": "code",
   "execution_count": 56,
   "metadata": {},
   "outputs": [
    {
     "name": "stdout",
     "output_type": "stream",
     "text": [
      "use DesktopAudio version 1.0\r\n",
      "\r\n",
      "import Generators\r\n",
      "\r\n",
      "\r\n",
      "module Test {\r\n",
      "    ports: [\r\n",
      "        mainInputPort InputPort {\r\n",
      "\t\t\tblock: Input\r\n",
      "\t\t},\r\n",
      "\t\tmainOutputPort OutputPort {\r\n",
      "\t\t\tblock: Output\r\n",
      "\t\t}\r\n",
      "\t\t\r\n",
      "    ]\r\n",
      "    blocks: [\r\n",
      "    ]\r\n",
      "    streams: [\r\n",
      "        OutputPort.rate + (Input / OutputPort.rate) >> Output;\r\n",
      "    ]\r\n",
      "}\r\n",
      "\r\n",
      "\r\n",
      "AudioIn[0] >> Test() >> AudioOut[0];"
     ]
    }
   ],
   "source": [
    "!cat 19_port_property_multiple.stride"
   ]
  },
  {
   "cell_type": "code",
   "execution_count": 57,
   "metadata": {},
   "outputs": [],
   "source": [
    "out_text = ''\n",
    "  \n",
    "for val1, val2 in zip(input1, input2):\n",
    "    out_text += str(44100.0 + (val1/44100.0)) + \"\\n0.0\\n\"\n",
    "\n",
    "out_file = open(\"19_port_property_multiple.expected\", \"w\")\n",
    "out_file.write(out_text[:-1])\n",
    "pass"
   ]
  },
  {
   "cell_type": "code",
   "execution_count": 58,
   "metadata": {},
   "outputs": [
    {
     "name": "stdout",
     "output_type": "stream",
     "text": [
      "use DesktopAudio version 1.0\r\n",
      "\r\n",
      "import Generators\r\n",
      "\r\n",
      "\r\n",
      "module InnerTest {\r\n",
      "    ports: [\r\n",
      "        mainInputPort InputPort {\r\n",
      "\t\t\tblock: Input\r\n",
      "\t\t},\r\n",
      "\t\tmainOutputPort OutputPort {\r\n",
      "\t\t\tblock: Output\r\n",
      "\t\t}\r\n",
      "\t\t\r\n",
      "    ]\r\n",
      "    blocks: [\r\n",
      "        signal Input[2] {}\r\n",
      "    ]\r\n",
      "    streams: [\r\n",
      "        Input[0] + Input[1] >> Output;\r\n",
      "    ]\r\n",
      "}\r\n",
      "\r\n",
      "module Test {\r\n",
      "    ports: [\r\n",
      "        mainInputPort InputPort {\r\n",
      "\t\t\tblock: Input\r\n",
      "\t\t},\r\n",
      "\t\tmainOutputPort OutputPort {\r\n",
      "\t\t\tblock: Output\r\n",
      "\t\t}\r\n",
      "\t\t\r\n",
      "    ]\r\n",
      "    blocks: [\r\n",
      "    ]\r\n",
      "    streams: [\r\n",
      "        [Input, 1] >> InnerTest() >> Output;\r\n",
      "    ]\r\n",
      "}\r\n",
      "\r\n",
      "\r\n",
      "AudioIn[0] >> Test() >> AudioOut[0];"
     ]
    }
   ],
   "source": [
    "!cat 20_list_input_in_module.stride"
   ]
  },
  {
   "cell_type": "code",
   "execution_count": 59,
   "metadata": {},
   "outputs": [],
   "source": [
    "out_text = ''\n",
    "  \n",
    "for val1, val2 in zip(input1, input2):\n",
    "    out_text += str(val1 + 1) + \"\\n0.0\\n\"\n",
    "\n",
    "out_file = open(\"20_list_input_in_module.expected\", \"w\")\n",
    "out_file.write(out_text[:-1])\n",
    "pass"
   ]
  },
  {
   "cell_type": "code",
   "execution_count": 60,
   "metadata": {},
   "outputs": [
    {
     "name": "stdout",
     "output_type": "stream",
     "text": [
      "use DesktopAudio version 1.0\r\n",
      "\r\n",
      "module BundleIn {\r\n",
      "\tports: [\t\r\n",
      "\t\tmainInputPort InputPort { block: Input }\r\n",
      "\t\tmainOutputPort OutputPort { block: Output }\r\n",
      "\t]\r\n",
      "\tblocks: [\r\n",
      "\t\tsignal Input[2] { domain: OutputPort.domain }\r\n",
      "\t\tsignal Output { default: 0 domain: OutputPort.domain}\r\n",
      "\t]\r\n",
      "\tstreams: [\r\n",
      "\t\tInput[0] + Input[1] >> Output;\r\n",
      "\t]\r\n",
      "}\r\n",
      "\r\n",
      "AudioIn >> BundleIn() >> AudioOut[0];\r\n",
      "\r\n"
     ]
    }
   ],
   "source": [
    "!cat 21_bundle_input.stride"
   ]
  },
  {
   "cell_type": "code",
   "execution_count": 61,
   "metadata": {},
   "outputs": [],
   "source": [
    "out_text = ''\n",
    "  \n",
    "for val1, val2 in zip(input1, input2):\n",
    "    out_text += str(val1 + val2) + \"\\n0.0\\n\"\n",
    "\n",
    "out_file = open(\"21_bundle_input.expected\", \"w\")\n",
    "out_file.write(out_text[:-1])\n",
    "pass"
   ]
  },
  {
   "cell_type": "code",
   "execution_count": 62,
   "metadata": {},
   "outputs": [
    {
     "name": "stdout",
     "output_type": "stream",
     "text": [
      "use DesktopAudio version 1.0\r\n",
      "\r\n",
      "module TestSwitch {\r\n",
      "\tports: [\r\n",
      "\t\tmainInputPort InputPort {\r\n",
      "\t\t\tblock: Input\r\n",
      "\t\t}\r\n",
      "\t\tmainOutputPort OutputPort {\r\n",
      "\t\t\tblock: Output\r\n",
      "\t\t}\r\n",
      "\t\tpropertyInputPort UnusedPort {\r\n",
      "\t\t\tname: \"unused\"\r\n",
      "\t\t\tblock: Unused\r\n",
      "\t\t}\r\n",
      "\t]\r\n",
      "\tblocks: [\r\n",
      "\t\tsignal Counter {}\r\n",
      "\t\tsignal Input {domain: OutputPort.domain}\r\n",
      "\t]\r\n",
      "\tstreams: [\r\n",
      "\t\tInput >> Output;\r\n",
      "\t]\r\n",
      "\t\r\n",
      "}\r\n",
      "\r\n",
      "signal UnusedInside {}\r\n",
      "\r\n",
      "AudioIn[0]\r\n",
      ">> TestSwitch (unused: Reset)\r\n",
      ">> AudioOut[0];\r\n"
     ]
    }
   ],
   "source": [
    "!cat 22_unused_port_block.stride"
   ]
  },
  {
   "cell_type": "code",
   "execution_count": 63,
   "metadata": {},
   "outputs": [],
   "source": [
    "out_text = ''\n",
    "  \n",
    "for val1, val2 in zip(input1, input2):\n",
    "    out_text += str(val1) + \"\\n0.0\\n\"\n",
    "\n",
    "out_file = open(\"22_unused_port_block.expected\", \"w\")\n",
    "out_file.write(out_text[:-1])\n",
    "pass"
   ]
  },
  {
   "cell_type": "code",
   "execution_count": 64,
   "metadata": {},
   "outputs": [
    {
     "name": "stdout",
     "output_type": "stream",
     "text": [
      "use DesktopAudio version 1.0\r\n",
      "\r\n",
      "import Generators\r\n",
      "\r\n",
      "\r\n",
      "module Gen {\r\n",
      "\tports: [\r\n",
      "        mainOutputPort OutputPort {\r\n",
      "            block: Output\r\n",
      "        }\r\n",
      "    ]\r\n",
      "    blocks: [\r\n",
      "        signal Value {domain: OutputPort.domain}\r\n",
      "    ]\r\n",
      "    streams: [\r\n",
      "        Value + 0.001 >> Value;\r\n",
      "        Value >> Output;\r\n",
      "    ]\r\n",
      "}\r\n",
      "\r\n",
      "module Test {\r\n",
      "\tports: [\r\n",
      "\t\tmainOutputPort OutputPort {\r\n",
      "\t\t\tblock: Output\r\n",
      "\t\t}\r\n",
      "\t\tmainInputPort InputPort {\r\n",
      "\t\t\tblock: Input\r\n",
      "\t\t}\r\n",
      "\t]\r\n",
      "\tblocks: [\r\n",
      "\t\tsignal Input[2] {}\r\n",
      "\t\tsignal Output[2] {}\r\n",
      "\t]\r\n",
      "\tstreams: [\r\n",
      "\t\tInput[0] >> Output[0];\r\n",
      "\t\tInput[0] + Input[1] >> Output[1];\r\n",
      "\t]\r\n",
      "}\r\n",
      "[Gen(), 0.5] >> Test() >> AudioOut;\r\n"
     ]
    }
   ],
   "source": [
    "!cat 23_module_in_list.stride"
   ]
  },
  {
   "cell_type": "code",
   "execution_count": 65,
   "metadata": {},
   "outputs": [],
   "source": [
    "out_text = ''\n",
    "\n",
    "value = 0\n",
    "  \n",
    "for val1, val2 in zip(input1, input2):\n",
    "    value = value + 0.001\n",
    "    out_text += str(value) + \"\\n\" + str(value + 0.5) + \"\\n\"\n",
    "\n",
    "out_file = open(\"23_module_in_list.expected\", \"w\")\n",
    "out_file.write(out_text[:-1])\n",
    "pass"
   ]
  },
  {
   "cell_type": "code",
   "execution_count": 66,
   "metadata": {},
   "outputs": [
    {
     "name": "stdout",
     "output_type": "stream",
     "text": [
      "use DesktopAudio version 1.0\r\n",
      "\r\n",
      "import Generators\r\n",
      "\r\n",
      "\r\n",
      "module Gen {\r\n",
      "\tports: [\r\n",
      "        mainOutputPort OutputPort {\r\n",
      "            block: Output\r\n",
      "        }\r\n",
      "    ]\r\n",
      "    blocks: [\r\n",
      "        signal Value {domain: OutputPort.domain}\r\n",
      "    ]\r\n",
      "    streams: [\r\n",
      "        Value + 0.001 >> Value;\r\n",
      "        Value >> Output;\r\n",
      "    ]\r\n",
      "}\r\n",
      "\r\n",
      "Gen() + 0.5 >> AudioOut[0];\r\n"
     ]
    }
   ],
   "source": [
    "!cat 24_module_in_expression.stride"
   ]
  },
  {
   "cell_type": "code",
   "execution_count": 67,
   "metadata": {},
   "outputs": [],
   "source": [
    "out_text = ''\n",
    "\n",
    "value = 0\n",
    "  \n",
    "for val1, val2 in zip(input1, input2):\n",
    "    value = value + 0.001\n",
    "    out_text += str(value + 0.5) + \"\\n0.0\\n\"\n",
    "\n",
    "out_file = open(\"24_module_in_expression.expected\", \"w\")\n",
    "out_file.write(out_text[:-1])\n",
    "pass"
   ]
  },
  {
   "cell_type": "code",
   "execution_count": 68,
   "metadata": {},
   "outputs": [
    {
     "name": "stdout",
     "output_type": "stream",
     "text": [
      "use DesktopAudio version 1.0\r\n",
      "\r\n",
      "import Generators\r\n",
      "\r\n",
      "module Gen2 {\r\n",
      "\tports: [\r\n",
      "        mainOutputPort OutputPort {\r\n",
      "            block: Output\r\n",
      "        }\r\n",
      "        propertyInputPort PropertyPort2 {\r\n",
      "            name: \"prop2\"\r\n",
      "            block: Property2\r\n",
      "            default: 1.0\r\n",
      "        }\r\n",
      "    ]\r\n",
      "    blocks: [\r\n",
      "    ]\r\n",
      "    streams: [\r\n",
      "        Property2 >> Output;\r\n",
      "    ]\r\n",
      "}\r\n",
      "\r\n",
      "module Gen {\r\n",
      "\tports: [\r\n",
      "        mainOutputPort OutputPort {\r\n",
      "            block: Output\r\n",
      "        }\r\n",
      "        propertyInputPort PropertyPort {\r\n",
      "            name: \"prop\"\r\n",
      "            block: Property\r\n",
      "            default: 1.0\r\n",
      "        }\r\n",
      "    ]\r\n",
      "    blocks: [\r\n",
      "    ]\r\n",
      "    streams: [\r\n",
      "        Gen2(prop2: Property)>> Output;\r\n",
      "    ]\r\n",
      "}\r\n",
      "\r\n",
      "\r\n",
      "\r\n",
      "Gen(prop: AudioIn[0]) >> AudioOut[0];\r\n"
     ]
    }
   ],
   "source": [
    "!cat 25_module_port_signal.stride"
   ]
  },
  {
   "cell_type": "code",
   "execution_count": 69,
   "metadata": {},
   "outputs": [],
   "source": [
    "out_text = ''\n",
    "\n",
    "value = 0\n",
    "  \n",
    "for val1, val2 in zip(input1, input2):\n",
    "\n",
    "    out_text += str(val1) + \"\\n0.0\\n\"\n",
    "\n",
    "out_file = open(\"25_module_port_signal.expected\", \"w\")\n",
    "out_file.write(out_text[:-1])\n",
    "pass"
   ]
  },
  {
   "cell_type": "code",
   "execution_count": 70,
   "metadata": {},
   "outputs": [
    {
     "name": "stdout",
     "output_type": "stream",
     "text": [
      "use DesktopAudio version 1.0\r\n",
      "\r\n",
      "import Generators\r\n",
      "\r\n",
      "module Gen {\r\n",
      "\tports: [\r\n",
      "        mainOutputPort OutputPort {\r\n",
      "            block: Output\r\n",
      "        }\r\n",
      "        propertyInputPort PropertyPort {\r\n",
      "            name: \"prop\"\r\n",
      "            block: Property\r\n",
      "            default: 1.0\r\n",
      "        }\r\n",
      "    ]\r\n",
      "    blocks: [\r\n",
      "    ]\r\n",
      "    streams: [\r\n",
      "        Property + 0.1 >> Output;\r\n",
      "    ]\r\n",
      "}\r\n",
      "\r\n",
      "signal Signal {\r\n",
      "\tdefault: 0.15\r\n",
      "\tdomain: AudioDomain\r\n",
      "}\r\n",
      "\r\n",
      "Gen(prop: AudioIn[0] + 0.4) >> AudioOut[0];\r\n",
      "Gen(prop: AudioIn[0] + AudioIn[1] + Signal ) >> AudioOut[1];\r\n"
     ]
    }
   ],
   "source": [
    "!cat 26_expression_in_property.stride"
   ]
  },
  {
   "cell_type": "code",
   "execution_count": 71,
   "metadata": {},
   "outputs": [],
   "source": [
    "out_text = ''\n",
    "\n",
    "value = 0\n",
    "  \n",
    "for val1, val2 in zip(input1, input2):\n",
    "    out_text += str(val1 + 0.4 + 0.1) + \"\\n\" + str(val1 + val2 + 0.15 + 0.1) + \"\\n\"\n",
    "\n",
    "out_file = open(\"26_expression_in_property.expected\", \"w\")\n",
    "out_file.write(out_text[:-1])\n",
    "pass"
   ]
  },
  {
   "cell_type": "code",
   "execution_count": 72,
   "metadata": {},
   "outputs": [
    {
     "name": "stdout",
     "output_type": "stream",
     "text": [
      "use DesktopAudio version 1.0\r\n",
      "\r\n",
      "module Last {\r\n",
      "\tports: [\r\n",
      "        mainInputPort InputPort {\r\n",
      "            block: Input\r\n",
      "        }\r\n",
      "        mainOutputPort OutputPort {\r\n",
      "            block: Output\r\n",
      "        }\r\n",
      "    ]\r\n",
      "    blocks: [\r\n",
      "        signal Input[InputPort.size] {}\r\n",
      "        signal Index {}\r\n",
      "    ]\r\n",
      "    streams: [\r\n",
      "        InputPort.size - 1 >> Index;\r\n",
      "        Input[Index] >> Output;\r\n",
      "    ]\r\n",
      "}\r\n",
      "\r\n",
      "signal Signal {\r\n",
      "\tdefault: 0.15\r\n",
      "\tdomain: AudioDomain\r\n",
      "}\r\n",
      "\r\n",
      "signal Six[6] { default: [0.0, 1.0, 2.0, 3.0, 4.0, 5.0]}\r\n",
      "\r\n",
      "AudioIn >> Last() >> AudioOut[0];\r\n",
      "Six >> Last() >> AudioOut[1];\r\n"
     ]
    }
   ],
   "source": [
    "!cat 27_size_port_property.stride"
   ]
  },
  {
   "cell_type": "code",
   "execution_count": 73,
   "metadata": {},
   "outputs": [],
   "source": [
    "out_text = ''\n",
    "\n",
    "value = 0\n",
    "  \n",
    "for val1, val2 in zip(input1, input2):\n",
    "    out_text += str(val2) + \"\\n\" + str(5.0) + \"\\n\"\n",
    "\n",
    "out_file = open(\"27_size_port_property.expected\", \"w\")\n",
    "out_file.write(out_text[:-1])\n",
    "pass"
   ]
  },
  {
   "cell_type": "code",
   "execution_count": 74,
   "metadata": {},
   "outputs": [
    {
     "name": "stdout",
     "output_type": "stream",
     "text": [
      "use DesktopAudio version 1.0\r\n",
      "\r\n",
      "module UsedInTest2 {\r\n",
      "\tports: [\r\n",
      "\t\tmainOutputPort OutputPort {\r\n",
      "\t\t\tblock: Output\r\n",
      "\t\t\tdomain: OutputPort.domain\r\n",
      "\t\t}\r\n",
      "\t\tmainInputPort InputPort {\r\n",
      "\t\t\tblock: Input\r\n",
      "\t\t\tdomain: OutputPort.domain\r\n",
      "\t\t}\r\n",
      "\t]\r\n",
      "\tstreams: [\r\n",
      "\t\tInput + 2 >> Output;\r\n",
      "\t]\r\n",
      "}\r\n",
      "\r\n",
      "module UsedInTest {\r\n",
      "\tports: [\r\n",
      "\t\tmainOutputPort OutputPort {\r\n",
      "\t\t\tblock: Output\r\n",
      "\t\t\tdomain: OutputPort.domain\r\n",
      "\t\t}\r\n",
      "\t\tmainInputPort InputPort {\r\n",
      "\t\t\tblock: Input\r\n",
      "\t\t\tdomain: OutputPort.domain\r\n",
      "\t\t}\r\n",
      "\t]\r\n",
      "\tstreams: [\r\n",
      "\t\tInput - 1 >> UsedInTest2() >> Output;\r\n",
      "\t]\r\n",
      "}\r\n",
      "\r\n",
      "module Test {\r\n",
      "\tports: [\r\n",
      "\t\tmainOutputPort OutputPort {\r\n",
      "\t\t\tblock: Output\r\n",
      "\t\t\tdomain: OutputPort.domain\r\n",
      "\t\t}\r\n",
      "\t\tmainInputPort InputPort {\r\n",
      "\t\t\tblock: Input\r\n",
      "\t\t\tdomain: OutputPort.domain\r\n",
      "\t\t}\r\n",
      "\t]\r\n",
      "\tstreams: [\r\n",
      "\t\tInput * 2 >> UsedInTest() >> Output;\r\n",
      "\t]\r\n",
      "}\r\n",
      "\r\n",
      "\r\n",
      "AudioIn[0] >> Test() >> AudioOut[0];\r\n",
      "AudioIn[1] >> Test() >> AudioOut[1];\r\n"
     ]
    }
   ],
   "source": [
    "cat 28_three_levels.stride"
   ]
  },
  {
   "cell_type": "code",
   "execution_count": 75,
   "metadata": {},
   "outputs": [],
   "source": [
    "out_text = ''\n",
    "\n",
    "value = 0\n",
    "  \n",
    "for val1, val2 in zip(input1, input2):\n",
    "    val1 = val1 * 2\n",
    "    val1 = val1 + 1\n",
    "    val2 = val2 * 2\n",
    "    val2 = val2 + 1\n",
    "    out_text += str(val1) + \"\\n\" + str(val2) + \"\\n\"\n",
    "\n",
    "out_file = open(\"28_three_levels.expected\", \"w\")\n",
    "out_file.write(out_text[:-1])\n",
    "pass"
   ]
  },
  {
   "cell_type": "code",
   "execution_count": 76,
   "metadata": {},
   "outputs": [
    {
     "name": "stdout",
     "output_type": "stream",
     "text": [
      "use DesktopAudio version 1.0\r\n",
      "\r\n",
      "import Generators\r\n",
      "\r\n",
      "module ResetTest {\r\n",
      "\tports: [\r\n",
      "\t\tmainOutputPort OutputPort {\r\n",
      "\t\t\tblock: Output\r\n",
      "\t\t}\r\n",
      "\t]\r\n",
      "\tblocks: [\r\n",
      "\t\ttrigger Reset {domain: OutputPort.domain}\r\n",
      "\t\r\n",
      "\t\tsignal Value {\r\n",
      "\t\t\treset: Reset\r\n",
      "\t\t\tdefault: 1\r\n",
      "\t\t\tdomain: OutputPort.domain\r\n",
      "\t\t}\r\n",
      "\t]\r\n",
      "\tstreams: [\r\n",
      "\t\tValue >> Output;\r\n",
      "\t\tValue + 1 >> Value;\r\n",
      "\t\t[Value, 10] >> Equal() >> Reset;\r\n",
      "\t]\r\n",
      "}\r\n",
      "\r\n",
      "ResetTest() >> AudioOut[0];"
     ]
    }
   ],
   "source": [
    "cat 29_trigger_reset.stride"
   ]
  },
  {
   "cell_type": "code",
   "execution_count": 77,
   "metadata": {},
   "outputs": [],
   "source": [
    "out_text = ''\n",
    "\n",
    "value = 1\n",
    "  \n",
    "for val1, val2 in zip(input1, input2):\n",
    "    out_text += str(value) + \"\\n\" + str(0.0) + \"\\n\"\n",
    "    value += 1\n",
    "    if value == 10:\n",
    "        value = 1\n",
    "\n",
    "out_file = open(\"29_trigger_reset.expected\", \"w\")\n",
    "out_file.write(out_text[:-1])\n",
    "pass"
   ]
  },
  {
   "cell_type": "code",
   "execution_count": 78,
   "metadata": {},
   "outputs": [
    {
     "name": "stdout",
     "output_type": "stream",
     "text": [
      "use DesktopAudio version 1.0\r\n",
      "\r\n",
      "import Generators\r\n",
      "\r\n",
      "module ResetTest {\r\n",
      "\tports: [\r\n",
      "\t\tmainOutputPort OutputPort {\r\n",
      "\t\t\tblock: Output\r\n",
      "\t\t}\r\n",
      "\t]\r\n",
      "\tblocks: [\r\n",
      "\t\tswitch Reset {domain: OutputPort.domain}\r\n",
      "\t\r\n",
      "\t\tsignal Value {\r\n",
      "\t\t\treset: Reset\r\n",
      "\t\t\tdefault: 1\r\n",
      "\t\t\tdomain: OutputPort.domain\r\n",
      "\t\t}\r\n",
      "\t]\r\n",
      "\tstreams: [\r\n",
      "\t\tValue >> Output;\r\n",
      "\t\tValue + 1 >> Value;\r\n",
      "\t\t[Value, 10] >> Equal() >> Reset;\r\n",
      "\t]\r\n",
      "}\r\n",
      "\r\n",
      "ResetTest() >> AudioOut[0];"
     ]
    }
   ],
   "source": [
    "cat 30_switch_reset.stride"
   ]
  },
  {
   "cell_type": "code",
   "execution_count": 79,
   "metadata": {},
   "outputs": [],
   "source": [
    "out_text = ''\n",
    "\n",
    "value = 1\n",
    "  \n",
    "for val1, val2 in zip(input1, input2):\n",
    "    out_text += str(value) + \"\\n\" + str(0.0) + \"\\n\"\n",
    "    value += 1\n",
    "    if value == 10:\n",
    "        value = 1\n",
    "\n",
    "out_file = open(\"30_switch_reset.expected\", \"w\")\n",
    "out_file.write(out_text[:-1])\n",
    "pass"
   ]
  },
  {
   "cell_type": "code",
   "execution_count": 80,
   "metadata": {},
   "outputs": [
    {
     "name": "stdout",
     "output_type": "stream",
     "text": [
      "use DesktopAudio version 1.0\r\n",
      "\r\n",
      "import Generators\r\n",
      "\r\n",
      "\r\n",
      "module UsedInTest {\r\n",
      "    ports: [\r\n",
      "        mainInputPort InputPort {\r\n",
      "\t\t\tblock: Input\r\n",
      "\t\t},\r\n",
      "\t\tmainOutputPort OutputPort {\r\n",
      "\t\t\tblock: Output\r\n",
      "\t\t}\r\n",
      "\t\t\r\n",
      "    ]\r\n",
      "    blocks: [\r\n",
      "    ]\r\n",
      "    streams: [\r\n",
      "        OutputPort.rate + (Input / OutputPort.rate) >> Output;\r\n",
      "    ]\r\n",
      "}\r\n",
      "\r\n",
      "module Test {\r\n",
      "    ports: [\r\n",
      "        mainInputPort InputPort {\r\n",
      "\t\t\tblock: Input\r\n",
      "\t\t},\r\n",
      "\t\tmainOutputPort OutputPort {\r\n",
      "\t\t\tblock: Output\r\n",
      "\t\t}\r\n",
      "\t\t\r\n",
      "    ]\r\n",
      "    blocks: [\r\n",
      "    ]\r\n",
      "    streams: [\r\n",
      "        Input >> UsedInTest() >> Output;\r\n",
      "    ]\r\n",
      "}\r\n",
      "\r\n",
      "\r\n",
      "AudioIn[0] >> Test() >> AudioOut[0];"
     ]
    }
   ],
   "source": [
    "cat 31_port_property_nested.stride"
   ]
  },
  {
   "cell_type": "code",
   "execution_count": 81,
   "metadata": {},
   "outputs": [],
   "source": [
    "out_text = ''\n",
    "\n",
    "value = 1\n",
    "  \n",
    "for val1, val2 in zip(input1, input2):\n",
    "    value = 44100.0 + (val1/44100.0)\n",
    "    out_text += str(value) + \"\\n\" + str(0.0) + \"\\n\"\n",
    "    \n",
    "\n",
    "out_file = open(\"31_port_property_nested.expected\", \"w\")\n",
    "out_file.write(out_text[:-1])\n",
    "pass"
   ]
  },
  {
   "cell_type": "code",
   "execution_count": 82,
   "metadata": {},
   "outputs": [
    {
     "name": "stdout",
     "output_type": "stream",
     "text": [
      "use DesktopAudio version 1.0\r\n",
      "\r\n",
      "import Generators\r\n",
      "\r\n",
      "\r\n",
      "module Test {\r\n",
      "    ports: [\r\n",
      "        mainInputPort InputPort {\r\n",
      "\t\t\tblock: Input\r\n",
      "\t\t},\r\n",
      "\t\tmainOutputPort OutputPort {\r\n",
      "\t\t\tblock: Output\r\n",
      "\t\t}\r\n",
      "\t\t\r\n",
      "    ]\r\n",
      "    blocks: [\r\n",
      "        signal Input[2] {}\r\n",
      "    ]\r\n",
      "    streams: [\r\n",
      "        Input[0] >> Output;\r\n",
      "        Input >> Greater() >> reaction {Input[1]>> Output; domain: OutputPort.domain};\r\n",
      "    ]\r\n",
      "}\r\n",
      "\r\n",
      "\r\n",
      "AudioIn[0] >> Test() >> AudioOut[0];"
     ]
    }
   ],
   "source": [
    "cat 32_anon_reaction_in_module.stride"
   ]
  },
  {
   "cell_type": "code",
   "execution_count": 85,
   "metadata": {},
   "outputs": [],
   "source": [
    "out_text = ''\n",
    "\n",
    "value = 1\n",
    "  \n",
    "for val1, val2 in zip(input1, input2):\n",
    "    value = val2 if val1 > val2 else val1\n",
    "    out_text += str(value) + \"\\n\" + str(0.0) + \"\\n\"\n",
    "    \n",
    "\n",
    "out_file = open(\"32_anon_reaction_in_module.expected\", \"w\")\n",
    "out_file.write(out_text[:-1])\n",
    "pass"
   ]
  },
  {
   "cell_type": "code",
   "execution_count": 86,
   "metadata": {},
   "outputs": [
    {
     "name": "stdout",
     "output_type": "stream",
     "text": [
      "use DesktopAudio version 1.0\r\n",
      "\r\n",
      "import Generators\r\n",
      "\r\n",
      "Oscillator(frequency: 440) >> AudioOut[0];\r\n",
      "\r\n",
      "switch Toggle {\r\n",
      "\tdomain: AsyncDomain\r\n",
      "\trate:20\r\n",
      "\t}\r\n",
      "\r\n",
      "[Oscillator(frequency: 1), 0] >> Greater() >> Toggle;\r\n",
      "\r\n",
      "AudioIn[0] >> AudioOut[0];"
     ]
    }
   ],
   "source": [
    "cat 33_module_declaration_order.stride"
   ]
  },
  {
   "cell_type": "code",
   "execution_count": 87,
   "metadata": {},
   "outputs": [],
   "source": [
    "out_text = ''\n",
    "\n",
    "# We could write a better test of output, although this test is mostly about whether the code compiles or not.\n",
    "for val1, val2 in zip(input1, input2):\n",
    "    out_text += str(val1) + \"\\n\" + str(0.0) + \"\\n\"\n",
    "    \n",
    "\n",
    "out_file = open(\"33_module_declaration_order.expected\", \"w\")\n",
    "out_file.write(out_text[:-1])\n",
    "pass"
   ]
  },
  {
   "cell_type": "code",
   "execution_count": 88,
   "metadata": {},
   "outputs": [
    {
     "name": "stdout",
     "output_type": "stream",
     "text": [
      "use DesktopAudio version 1.0\r\n",
      "\r\n",
      "module PropOut {\r\n",
      "    ports: [\r\n",
      "        mainOutputPort OutputPort {\r\n",
      "            block: Output\r\n",
      "            domain: OutputPort.domain\r\n",
      "        }\r\n",
      "        mainInputPort InputPort {\r\n",
      "            block: Input\r\n",
      "            domain: OutputPort.domain\r\n",
      "        }\r\n",
      "        propertyOutputPort OutPort {\r\n",
      "            name: \"out\"\r\n",
      "            block: Out\r\n",
      "            domain: OutputPort.domain\r\n",
      "        }\r\n",
      "    ]\r\n",
      "    streams: [\r\n",
      "        Input >> Out;\r\n",
      "        Input + 2 >> Output;\r\n",
      "    ]\r\n",
      "}\r\n",
      "\r\n",
      "signal OutVal {\r\n",
      "    domain: AudioDomain   \r\n",
      "}\r\n",
      "\r\n",
      "AudioIn[0] >> PropOut(out: OutVal) >> AudioOut[0];\r\n",
      "OutVal >> AudioOut[1];"
     ]
    }
   ],
   "source": [
    "cat 34_output_secondary_port.stride"
   ]
  },
  {
   "cell_type": "code",
   "execution_count": 89,
   "metadata": {},
   "outputs": [],
   "source": [
    "out_text = ''\n",
    "\n",
    "for val1, val2 in zip(input1, input2):\n",
    "    out_text += str(val1 + 2) + \"\\n\" + str(val1) + \"\\n\"\n",
    "    \n",
    "\n",
    "out_file = open(\"34_output_secondary_port.expected\", \"w\")\n",
    "out_file.write(out_text[:-1])\n",
    "pass"
   ]
  },
  {
   "cell_type": "code",
   "execution_count": 90,
   "metadata": {},
   "outputs": [
    {
     "name": "stdout",
     "output_type": "stream",
     "text": [
      "use DesktopAudio version 1.0\r\n",
      "\r\n",
      "module PropBundle {\r\n",
      "    ports: [\r\n",
      "        mainInputPort InputPort {\r\n",
      "            block: Input\r\n",
      "        }\r\n",
      "        mainOutputPort OutputPort {\r\n",
      "            block: Output\r\n",
      "        }\r\n",
      "        propertyInputPort ValuesPort {\r\n",
      "            name: \"values\"\r\n",
      "            block: Values\r\n",
      "        }\r\n",
      "    ]\r\n",
      "    blocks: [\r\n",
      "        signal Input {}\r\n",
      "        signal Output {}\r\n",
      "        signal Values[ValuesPort.size] {}\r\n",
      "    ]\r\n",
      "    streams: [\r\n",
      "        (Input + Values[0]) * Values[1] >> Output;\r\n",
      "    ]\r\n",
      "    meta: \"Sequencer\"\r\n",
      "}\r\n",
      "\r\n",
      "AudioIn[0] >> PropBundle( values: [0.1, 0.5] ) >> AudioOut[0]; "
     ]
    }
   ],
   "source": [
    "cat 35_property_input_list.stride"
   ]
  },
  {
   "cell_type": "code",
   "execution_count": 91,
   "metadata": {},
   "outputs": [],
   "source": [
    "out_text = ''\n",
    "\n",
    "for val1, val2 in zip(input1, input2):\n",
    "    value = (val1 + 0.1) * 0.5\n",
    "    out_text += str(value) + \"\\n\" + str(0.0) + \"\\n\"\n",
    "    \n",
    "\n",
    "out_file = open(\"35_property_input_list.expected\", \"w\")\n",
    "out_file.write(out_text[:-1])\n",
    "pass"
   ]
  },
  {
   "cell_type": "code",
   "execution_count": 93,
   "metadata": {},
   "outputs": [
    {
     "name": "stdout",
     "output_type": "stream",
     "text": [
      "use DesktopAudio version 1.0\r\n",
      "\r\n",
      "module PropBundle {\r\n",
      "    ports: [\r\n",
      "        mainInputPort InputPort {\r\n",
      "            block: Input\r\n",
      "        }\r\n",
      "        mainOutputPort OutputPort {\r\n",
      "            block: Output\r\n",
      "        }\r\n",
      "        propertyInputPort ValuesPort {\r\n",
      "            name: \"values\"\r\n",
      "            block: Values\r\n",
      "        }\r\n",
      "        propertyInputPort SingleValuePort {\r\n",
      "            name: \"singleValue\"\r\n",
      "            block: SingleValue\r\n",
      "        }\r\n",
      "    ]\r\n",
      "    blocks: [\r\n",
      "        signal Input {}\r\n",
      "        signal Output {}\r\n",
      "        constant Values[ValuesPort.size] {}\r\n",
      "        constant SingleValue {}\r\n",
      "    ]\r\n",
      "    streams: [\r\n",
      "        (Input + Values[0]) * Values[2] + SingleValue >> Output;\r\n",
      "    ]\r\n",
      "    meta: \"Sequencer\"\r\n",
      "}\r\n",
      "\r\n",
      "constant Multiple[3] {\r\n",
      "    value: [1,2,3]\r\n",
      "}\r\n",
      "\r\n",
      "constant Single {\r\n",
      "    value: 0.8\r\n",
      "}\r\n",
      "\r\n",
      "AudioIn[0] >> PropBundle( values: Multiple  singleValue: Single) >> AudioOut[0]; \r\n",
      "AudioIn[1] >> PropBundle( values: [1,2,3]  singleValue: 0.8) >> AudioOut[1]; "
     ]
    }
   ],
   "source": [
    "cat 36_property_input_constant.stride"
   ]
  },
  {
   "cell_type": "code",
   "execution_count": 94,
   "metadata": {},
   "outputs": [],
   "source": [
    "out_text = ''\n",
    "\n",
    "for val1, val2 in zip(input1, input2):\n",
    "    out1 = (val1 + 1) * 3 + 0.8\n",
    "    out2 = (val2 + 1) * 3 + 0.8\n",
    "    out_text += str(out1) + \"\\n\" + str(out2) + \"\\n\"\n",
    "    \n",
    "\n",
    "out_file = open(\"36_property_input_constant.expected\", \"w\")\n",
    "out_file.write(out_text[:-1])\n",
    "pass"
   ]
  },
  {
   "cell_type": "code",
   "execution_count": 95,
   "metadata": {},
   "outputs": [
    {
     "name": "stdout",
     "output_type": "stream",
     "text": [
      "use DesktopAudio version 1.0\r\n",
      "\r\n",
      "module TriggerInput {\r\n",
      "    ports: [\r\n",
      "        mainInputPort InputPort {\r\n",
      "            block: Input\r\n",
      "        }\r\n",
      "        mainOutputPort OutputPort {\r\n",
      "            block: Output\r\n",
      "        }\r\n",
      "    ]\r\n",
      "    blocks: [\r\n",
      "        trigger Input {domain: InputPort.domain}\r\n",
      "        signal Output { domain: OutputPort.domain }\r\n",
      "        signal Counter { \r\n",
      "            domain: InputPort.domain\r\n",
      "            type:_SizeType\r\n",
      "        }\r\n",
      "    ]\r\n",
      "    streams: [\r\n",
      "        Input >> reaction {Counter + 1 >> Counter;};\r\n",
      "        Counter >> Output;\r\n",
      "    ]\r\n",
      "    meta: \"Sequencer\"\r\n",
      "}\r\n",
      "\r\n",
      "[AudioIn[0], 0] >> Greater() >> TriggerInput() >> AudioOut[0];"
     ]
    }
   ],
   "source": [
    "cat 37_trigger_input_block.stride"
   ]
  },
  {
   "cell_type": "code",
   "execution_count": 96,
   "metadata": {},
   "outputs": [],
   "source": [
    "out_text = ''\n",
    "\n",
    "counter = 0\n",
    "\n",
    "for val1, val2 in zip(input1, input2):\n",
    "    if val1 > 0:\n",
    "        counter = counter + 1\n",
    "    out_text += str(counter) + \"\\n\" + str(0.0) + \"\\n\"\n",
    "    \n",
    "\n",
    "out_file = open(\"37_trigger_input_block.expected\", \"w\")\n",
    "out_file.write(out_text[:-1])\n",
    "pass"
   ]
  },
  {
   "cell_type": "code",
   "execution_count": null,
   "metadata": {},
   "outputs": [],
   "source": []
  }
 ],
 "metadata": {
  "kernelspec": {
   "display_name": "Python 3",
   "language": "python",
   "name": "python3"
  },
  "language_info": {
   "codemirror_mode": {
    "name": "ipython",
    "version": 3
   },
   "file_extension": ".py",
   "mimetype": "text/x-python",
   "name": "python",
   "nbconvert_exporter": "python",
   "pygments_lexer": "ipython3",
   "version": "3.8.5"
  }
 },
 "nbformat": 4,
 "nbformat_minor": 2
}
