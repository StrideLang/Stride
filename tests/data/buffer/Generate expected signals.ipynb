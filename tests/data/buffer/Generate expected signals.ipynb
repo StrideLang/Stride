{
 "cells": [
  {
   "cell_type": "code",
   "execution_count": 2,
   "metadata": {
    "jupyter": {
     "outputs_hidden": false
    }
   },
   "outputs": [
    {
     "name": "stdout",
     "output_type": "stream",
     "text": [
      "Populating the interactive namespace from numpy and matplotlib\n"
     ]
    }
   ],
   "source": [
    "%pylab inline\n",
    "#import matplotlib\n",
    "#import pylint"
   ]
  },
  {
   "cell_type": "code",
   "execution_count": 3,
   "metadata": {},
   "outputs": [],
   "source": [
    "num_samples = 44100\n",
    "input1 = linspace(-1, 1, num_samples)\n",
    "input2 = linspace(1, -1, num_samples)"
   ]
  },
  {
   "cell_type": "code",
   "execution_count": 4,
   "metadata": {
    "jupyter": {
     "outputs_hidden": false
    }
   },
   "outputs": [
    {
     "data": {
      "text/plain": [
       "array([-1.        , -0.99995465, -0.99990929, -0.99986394, -0.99981859,\n",
       "       -0.99977324, -0.99972788, -0.99968253, -0.99963718, -0.99959183])"
      ]
     },
     "execution_count": 4,
     "metadata": {},
     "output_type": "execute_result"
    }
   ],
   "source": [
    "input1[:10]"
   ]
  },
  {
   "cell_type": "code",
   "execution_count": 5,
   "metadata": {
    "jupyter": {
     "outputs_hidden": false
    }
   },
   "outputs": [
    {
     "name": "stdout",
     "output_type": "stream",
     "text": [
      "use DesktopAudio version 1.0\n",
      "\n",
      "buffer Buf {\n",
      "\tsize: 4\n",
      "\trate: AudioRate\n",
      "\tdefault: 0.0\n",
      "\tdomain: AudioDomain\n",
      "}\n",
      "\n",
      "AudioIn[1] >> Buf;\n",
      "\n",
      "Buf >> AudioOut[0];\n"
     ]
    }
   ],
   "source": [
    "!cat 01_basic.stride"
   ]
  },
  {
   "cell_type": "code",
   "execution_count": 15,
   "metadata": {},
   "outputs": [],
   "source": [
    "out_text = ''\n",
    "\n",
    "buf = [0,0,0,0]\n",
    "counter = 0\n",
    "\n",
    "for val1, val2 in zip(input1, input2):\n",
    "    out_text += str(buf[counter]) + \"\\n0.0\\n\"\n",
    "    buf[counter] = val2\n",
    "    counter = counter + 1\n",
    "    counter = counter%4\n",
    "\n",
    "out_file = open(\"01_basic.expected\", \"w\")\n",
    "out_file.write(out_text[:-1])\n",
    "pass"
   ]
  },
  {
   "cell_type": "code",
   "execution_count": 16,
   "metadata": {
    "jupyter": {
     "outputs_hidden": false
    }
   },
   "outputs": [
    {
     "name": "stdout",
     "output_type": "stream",
     "text": [
      "use DesktopAudio version 1.0\n",
      "\n",
      "buffer Buf2 {\n",
      "\tsize: 20\n",
      "\trate: 0\n",
      "\tdefault: 0.0\n",
      "}\n",
      "signal SignalBundle [20] {}\n",
      "\n",
      "AudioIn[1] >> Buf2;\n",
      "\n",
      "Buf2 >> SignalBundle;\n",
      "\n",
      "SignalBundle[3] >> AudioOut[0];\n",
      "SignalBundle[10] >> AudioOut[1];"
     ]
    }
   ],
   "source": [
    "!cat 02_output_bundle.stride"
   ]
  },
  {
   "cell_type": "code",
   "execution_count": 19,
   "metadata": {
    "jupyter": {
     "outputs_hidden": false
    }
   },
   "outputs": [],
   "source": [
    "out_text = ''\n",
    "\n",
    "buf = [0 for i in range(20)]\n",
    "counter = 0\n",
    "\n",
    "for val1, val2 in zip(input1, input2):\n",
    "    out_text += str(buf[(counter + 17) % 20]) + \"\\n\" + str(buf[(counter + 10) % 20]) + \"\\n\"\n",
    "    buf[counter] = val2\n",
    "    counter = counter + 1\n",
    "    counter = counter%20\n",
    "\n",
    "out_file = open(\"02_output_bundle.expected\", \"w\")\n",
    "out_file.write(out_text[:-1])\n",
    "pass"
   ]
  },
  {
   "cell_type": "code",
   "execution_count": null,
   "metadata": {
    "collapsed": true,
    "jupyter": {
     "outputs_hidden": true
    }
   },
   "outputs": [],
   "source": []
  }
 ],
 "metadata": {
  "kernelspec": {
   "display_name": "Python 3",
   "language": "python",
   "name": "python3"
  },
  "language_info": {
   "codemirror_mode": {
    "name": "ipython",
    "version": 3
   },
   "file_extension": ".py",
   "mimetype": "text/x-python",
   "name": "python",
   "nbconvert_exporter": "python",
   "pygments_lexer": "ipython3",
   "version": "3.8.5"
  }
 },
 "nbformat": 4,
 "nbformat_minor": 4
}
