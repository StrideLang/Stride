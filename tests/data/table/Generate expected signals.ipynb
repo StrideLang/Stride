{
 "cells": [
  {
   "cell_type": "code",
   "execution_count": 1,
   "metadata": {},
   "outputs": [
    {
     "name": "stdout",
     "output_type": "stream",
     "text": [
      "Using matplotlib backend: TkAgg\n",
      "Populating the interactive namespace from numpy and matplotlib\n"
     ]
    }
   ],
   "source": [
    "%pylab\n",
    "num_samples = 44100\n",
    "input1 = linspace(-1, 1, num_samples)\n",
    "input2 = linspace(1, -1, num_samples)"
   ]
  },
  {
   "cell_type": "code",
   "execution_count": 2,
   "metadata": {},
   "outputs": [
    {
     "name": "stdout",
     "output_type": "stream",
     "text": [
      "use DesktopAudio version 1.0\r\n",
      "\r\n",
      "import Generators\r\n",
      "\r\n",
      "table SineTable {\r\n",
      "\tsize: 1024\r\n",
      "\trate: 1024\r\n",
      "\tdomain: SetupDomain\r\n",
      "}\r\n",
      "\r\n",
      "trigger CounterReset {\r\n",
      "\tdomain: AudioDomain\r\n",
      "}\r\n",
      "\r\n",
      "signal Counter {\r\n",
      "\tdefault: 0.0\r\n",
      "\tdomain: AudioDomain\r\n",
      "\treset: CounterReset\r\n",
      "}\r\n",
      "\r\n",
      "Oscillator(frequency: 1.0) >> SineTable; \r\n",
      "\r\n",
      "\r\n",
      "[Counter, 1024] >> Equal() >> CounterReset;\r\n",
      "\r\n",
      "SineTable[Counter] >> AudioOut[0];\r\n",
      "\r\n",
      "Counter + 1 >> Counter;\r\n"
     ]
    }
   ],
   "source": [
    "cat 01_basic.stride"
   ]
  },
  {
   "cell_type": "code",
   "execution_count": 7,
   "metadata": {},
   "outputs": [],
   "source": [
    "out_text = ''\n",
    "\n",
    "phase = 0.0\n",
    "\n",
    "for val1, val2 in zip(input1, input2):\n",
    "    out_text += str(sin(phase * 2.0 * np.pi/1024.0)) + \"\\n0.0\\n\"\n",
    "    phase = phase + 1\n",
    "    if phase >= 1024:\n",
    "        phase = 0\n",
    "\n",
    "out_file = open(\"01_basic.expected\", \"w\")\n",
    "out_file.write(out_text[:-1])\n",
    "pass"
   ]
  },
  {
   "cell_type": "code",
   "execution_count": 8,
   "metadata": {},
   "outputs": [
    {
     "name": "stdout",
     "output_type": "stream",
     "text": [
      "use DesktopAudio version 1.0\r\n",
      "\r\n",
      "import Generators\r\n",
      "\r\n",
      "table TestTable {\r\n",
      "\tsize: 1024\r\n",
      "\trate: 1024\r\n",
      "\tdomain: SetupDomain\r\n",
      "}\r\n",
      "\r\n",
      "trigger CounterReset {\r\n",
      "\tdomain: AudioDomain\r\n",
      "}\r\n",
      "\r\n",
      "signal Counter {\r\n",
      "\tdefault: 0.0\r\n",
      "\tdomain: AudioDomain\r\n",
      "\treset: CounterReset\r\n",
      "}\r\n",
      "\r\n",
      "[0.5, 1.5] >> SineTable; \r\n",
      "\r\n",
      "[Counter, 1024] >> Equal() >> CounterReset;\r\n",
      "\r\n",
      "SineTable[Counter] >> AudioOut[0];\r\n",
      "Counter + 1 >> Counter;\r\n",
      "\r\n",
      "SineTable[Counter] >> AudioOut[1];\r\n",
      "Counter + 1 >> Counter;\r\n"
     ]
    }
   ],
   "source": [
    "cat 02_list_input.stride"
   ]
  },
  {
   "cell_type": "code",
   "execution_count": 9,
   "metadata": {},
   "outputs": [],
   "source": [
    "out_text = ''\n",
    "counter = 0\n",
    "\n",
    "for val1, val2 in zip(input1, input2):\n",
    "    if counter%512 == 0:\n",
    "        out_text += \"0.5\\n1.5\\n\"\n",
    "    else:\n",
    "        out_text += \"0.0\\n0.0\\n\"\n",
    "    counter += 1\n",
    "\n",
    "out_file = open(\"02_list_input.expected\", \"w\")\n",
    "out_file.write(out_text[:-1])\n",
    "pass"
   ]
  },
  {
   "cell_type": "code",
   "execution_count": null,
   "metadata": {},
   "outputs": [],
   "source": []
  }
 ],
 "metadata": {
  "kernelspec": {
   "display_name": "Python 3",
   "language": "python",
   "name": "python3"
  },
  "language_info": {
   "codemirror_mode": {
    "name": "ipython",
    "version": 3
   },
   "file_extension": ".py",
   "mimetype": "text/x-python",
   "name": "python",
   "nbconvert_exporter": "python",
   "pygments_lexer": "ipython3",
   "version": "3.6.9"
  }
 },
 "nbformat": 4,
 "nbformat_minor": 2
}
